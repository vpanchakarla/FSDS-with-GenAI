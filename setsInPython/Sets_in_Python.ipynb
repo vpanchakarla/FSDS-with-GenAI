{
 "cells": [
  {
   "cell_type": "markdown",
   "id": "77161f48-c7e2-459e-9334-f66fdda75597",
   "metadata": {},
   "source": [
    "## Sets in Python\n",
    "Sets are unordered collection of data items. They store multiple items in a single variable. Set items are separated by commas and enclosed with curly brackets{}. Sets are unchangeable i.e., we can't change the item once created. Sets do not contain any duplicate value."
   ]
  },
  {
   "cell_type": "code",
   "execution_count": 15,
   "id": "9f7e8186-93aa-4fba-aa14-30523816f6e3",
   "metadata": {
    "tags": []
   },
   "outputs": [],
   "source": [
    "info = {\"Praveen\",\"Pavan\",\"Shravan\",\"Praveen\",\"Pavan\"}"
   ]
  },
  {
   "cell_type": "code",
   "execution_count": 17,
   "id": "ce9ac800-85e8-48e9-b2a0-71571f2ded1c",
   "metadata": {
    "tags": []
   },
   "outputs": [
    {
     "data": {
      "text/plain": [
       "{'Pavan', 'Praveen', 'Shravan'}"
      ]
     },
     "execution_count": 17,
     "metadata": {},
     "output_type": "execute_result"
    }
   ],
   "source": [
    "info"
   ]
  },
  {
   "cell_type": "code",
   "execution_count": 19,
   "id": "b90d8a97-1a08-4d6b-b43a-700d2ac4ddb9",
   "metadata": {
    "tags": []
   },
   "outputs": [
    {
     "name": "stdout",
     "output_type": "stream",
     "text": [
      "Shravan\n",
      "Praveen\n",
      "Pavan\n"
     ]
    }
   ],
   "source": [
    "for data in info:\n",
    "    print(data)"
   ]
  },
  {
   "cell_type": "code",
   "execution_count": 21,
   "id": "eeb0026f-c21a-4192-b5bf-4842754a8349",
   "metadata": {
    "tags": []
   },
   "outputs": [],
   "source": [
    "lst1 = list(info)"
   ]
  },
  {
   "cell_type": "code",
   "execution_count": 23,
   "id": "85422b9f-56f1-4d16-933b-3a3e92837d26",
   "metadata": {
    "tags": []
   },
   "outputs": [
    {
     "data": {
      "text/plain": [
       "['Shravan', 'Praveen', 'Pavan']"
      ]
     },
     "execution_count": 23,
     "metadata": {},
     "output_type": "execute_result"
    }
   ],
   "source": [
    "lst1"
   ]
  },
  {
   "cell_type": "code",
   "execution_count": 29,
   "id": "1ee733ec-838b-4f89-ba04-5e12fcb7b96d",
   "metadata": {
    "tags": []
   },
   "outputs": [
    {
     "ename": "AttributeError",
     "evalue": "'set' object has no attribute 'append'",
     "output_type": "error",
     "traceback": [
      "\u001b[1;31m---------------------------------------------------------------------------\u001b[0m",
      "\u001b[1;31mAttributeError\u001b[0m                            Traceback (most recent call last)",
      "Cell \u001b[1;32mIn[29], line 1\u001b[0m\n\u001b[1;32m----> 1\u001b[0m info\u001b[38;5;241m.\u001b[39mappend(\u001b[38;5;124m\"\u001b[39m\u001b[38;5;124mParamesh\u001b[39m\u001b[38;5;124m\"\u001b[39m)\n",
      "\u001b[1;31mAttributeError\u001b[0m: 'set' object has no attribute 'append'"
     ]
    }
   ],
   "source": [
    "info.append(\"Paramesh\")"
   ]
  },
  {
   "cell_type": "code",
   "execution_count": 31,
   "id": "0c1365ae-fd63-45c9-8ae0-7c57f60f52cc",
   "metadata": {
    "tags": []
   },
   "outputs": [],
   "source": [
    "name = {}"
   ]
  },
  {
   "cell_type": "code",
   "execution_count": 33,
   "id": "950f5e68-1024-4e38-9b1c-083b60a7bc5b",
   "metadata": {
    "tags": []
   },
   "outputs": [
    {
     "data": {
      "text/plain": [
       "dict"
      ]
     },
     "execution_count": 33,
     "metadata": {},
     "output_type": "execute_result"
    }
   ],
   "source": [
    "type(name)"
   ]
  },
  {
   "cell_type": "code",
   "execution_count": 37,
   "id": "9e38ffc6-a90d-4a54-98a7-ef25e5c7e02e",
   "metadata": {
    "tags": []
   },
   "outputs": [],
   "source": [
    "name = set()"
   ]
  },
  {
   "cell_type": "code",
   "execution_count": 39,
   "id": "a0374741-98d2-4760-8e3f-7de41035d1c2",
   "metadata": {
    "tags": []
   },
   "outputs": [
    {
     "data": {
      "text/plain": [
       "set"
      ]
     },
     "execution_count": 39,
     "metadata": {},
     "output_type": "execute_result"
    }
   ],
   "source": [
    "type(name)"
   ]
  },
  {
   "cell_type": "code",
   "execution_count": 41,
   "id": "d56c19fe-67a9-4db8-a2c8-0e9fa1a8379e",
   "metadata": {
    "tags": []
   },
   "outputs": [
    {
     "data": {
      "text/plain": [
       "set()"
      ]
     },
     "execution_count": 41,
     "metadata": {},
     "output_type": "execute_result"
    }
   ],
   "source": [
    "name"
   ]
  },
  {
   "cell_type": "code",
   "execution_count": 44,
   "id": "9ed94711-480a-46ed-9d96-01c41630bcf5",
   "metadata": {
    "tags": []
   },
   "outputs": [],
   "source": [
    "lst1.append(\"Paramesh\")"
   ]
  },
  {
   "cell_type": "code",
   "execution_count": 46,
   "id": "1bc42875-54f1-4fe1-b856-3afa9d15bc6a",
   "metadata": {
    "tags": []
   },
   "outputs": [
    {
     "data": {
      "text/plain": [
       "['Shravan', 'Praveen', 'Pavan', 'Paramesh']"
      ]
     },
     "execution_count": 46,
     "metadata": {},
     "output_type": "execute_result"
    }
   ],
   "source": [
    "lst1"
   ]
  },
  {
   "cell_type": "code",
   "execution_count": 55,
   "id": "f671e9af-9cd5-4c80-a86c-ea7cc48cd525",
   "metadata": {
    "tags": []
   },
   "outputs": [],
   "source": [
    "a = {'a','a',1,0.2,True,False}"
   ]
  },
  {
   "cell_type": "code",
   "execution_count": 57,
   "id": "301c6e0e-9e46-48cc-b576-aab55ddac72c",
   "metadata": {
    "tags": []
   },
   "outputs": [
    {
     "data": {
      "text/plain": [
       "{0.2, 1, False, 'a'}"
      ]
     },
     "execution_count": 57,
     "metadata": {},
     "output_type": "execute_result"
    }
   ],
   "source": [
    "a"
   ]
  },
  {
   "cell_type": "code",
   "execution_count": 59,
   "id": "1a70ca6e-75eb-48ba-adc9-742ddd44537b",
   "metadata": {
    "tags": []
   },
   "outputs": [
    {
     "data": {
      "text/plain": [
       "set"
      ]
     },
     "execution_count": 59,
     "metadata": {},
     "output_type": "execute_result"
    }
   ],
   "source": [
    "type(a)"
   ]
  },
  {
   "cell_type": "code",
   "execution_count": 61,
   "id": "24ff0c30-90e3-469e-9728-9ad0c6bc49a6",
   "metadata": {
    "tags": []
   },
   "outputs": [],
   "source": [
    "b = {'a','a',0.2,True,False}"
   ]
  },
  {
   "cell_type": "code",
   "execution_count": 63,
   "id": "6bfaf83d-16fc-4181-ac32-05835198cc59",
   "metadata": {
    "tags": []
   },
   "outputs": [
    {
     "data": {
      "text/plain": [
       "{0.2, False, True, 'a'}"
      ]
     },
     "execution_count": 63,
     "metadata": {},
     "output_type": "execute_result"
    }
   ],
   "source": [
    "b"
   ]
  },
  {
   "cell_type": "code",
   "execution_count": 65,
   "id": "211289c8-5194-4910-be0d-5037843ed85c",
   "metadata": {
    "tags": []
   },
   "outputs": [],
   "source": [
    "c = {'a','a',0.2,True,False,1}"
   ]
  },
  {
   "cell_type": "code",
   "execution_count": 67,
   "id": "0fb6a75e-172c-474c-9c31-8f92879c5345",
   "metadata": {
    "tags": []
   },
   "outputs": [
    {
     "data": {
      "text/plain": [
       "{0.2, False, True, 'a'}"
      ]
     },
     "execution_count": 67,
     "metadata": {},
     "output_type": "execute_result"
    }
   ],
   "source": [
    "c"
   ]
  },
  {
   "cell_type": "code",
   "execution_count": null,
   "id": "93a69e2b-6d50-4f05-8435-bff1236cc0de",
   "metadata": {},
   "outputs": [],
   "source": []
  },
  {
   "cell_type": "code",
   "execution_count": null,
   "id": "23c72494-5fdc-4d0f-aed9-4afe4018bb4b",
   "metadata": {},
   "outputs": [],
   "source": []
  },
  {
   "cell_type": "code",
   "execution_count": null,
   "id": "9bd7c82a-0135-454c-a2f7-90504cd58bc6",
   "metadata": {},
   "outputs": [],
   "source": []
  },
  {
   "cell_type": "code",
   "execution_count": null,
   "id": "b452506b-5751-46ca-9c9f-a2f09fb639bf",
   "metadata": {},
   "outputs": [],
   "source": []
  },
  {
   "cell_type": "code",
   "execution_count": null,
   "id": "a91861a2-c9d1-4c7c-bf68-4207dd690b53",
   "metadata": {},
   "outputs": [],
   "source": []
  },
  {
   "cell_type": "code",
   "execution_count": null,
   "id": "5a401426-ce0a-4814-bcd8-a208c4de0056",
   "metadata": {},
   "outputs": [],
   "source": []
  },
  {
   "cell_type": "code",
   "execution_count": null,
   "id": "1f101c73-1405-4bcc-95b1-cbb58ff7e4e4",
   "metadata": {},
   "outputs": [],
   "source": []
  },
  {
   "cell_type": "code",
   "execution_count": null,
   "id": "db6660ef-ff0e-4a06-9cea-55eaf3d4c12e",
   "metadata": {},
   "outputs": [],
   "source": []
  },
  {
   "cell_type": "code",
   "execution_count": null,
   "id": "d69046d4-231c-43b0-b5a3-2f62db964184",
   "metadata": {},
   "outputs": [],
   "source": []
  }
 ],
 "metadata": {
  "kernelspec": {
   "display_name": "Python 3 (ipykernel)",
   "language": "python",
   "name": "python3"
  },
  "language_info": {
   "codemirror_mode": {
    "name": "ipython",
    "version": 3
   },
   "file_extension": ".py",
   "mimetype": "text/x-python",
   "name": "python",
   "nbconvert_exporter": "python",
   "pygments_lexer": "ipython3",
   "version": "3.11.7"
  }
 },
 "nbformat": 4,
 "nbformat_minor": 5
}
