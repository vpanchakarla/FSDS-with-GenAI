{
 "cells": [
  {
   "cell_type": "markdown",
   "id": "3e2ebafb-4422-48a1-8713-819c9fd1e6f7",
   "metadata": {},
   "source": [
    "## 05-May-2024: Today's Agenda\n",
    "1) Joining Sets ---> Union, Intersection\n",
    "2) Sets Methods\n",
    "3) Enumerate in Python\n",
    "4) File Handling in Python\n",
    "5) Tools Setup (Anaconda, Git & VS Code)"
   ]
  },
  {
   "cell_type": "markdown",
   "id": "a5195e9d-bfb6-4cb0-bce7-d012f60c57f4",
   "metadata": {
    "tags": []
   },
   "source": [
    "## Joining Sets"
   ]
  },
  {
   "cell_type": "markdown",
   "id": "3b9a2159-ccf9-4422-9200-5f763d4d14de",
   "metadata": {
    "tags": []
   },
   "source": [
    "## union() and update()"
   ]
  },
  {
   "cell_type": "code",
   "execution_count": 16,
   "id": "a3da99b1-c627-4366-8d6c-0061268ccf27",
   "metadata": {
    "tags": []
   },
   "outputs": [],
   "source": [
    "city_name1 = {\"Tokyo\",\"Madrid\",\"Berlin\",\"Delhi\"}\n",
    "city_name2 = {\"Tokyo\",\"Seoul\",\"Kabul\",\"Madrid\"}"
   ]
  },
  {
   "cell_type": "code",
   "execution_count": 24,
   "id": "554180e8-ee9a-444c-b86c-a3c284258376",
   "metadata": {
    "tags": []
   },
   "outputs": [],
   "source": [
    "city_name3 = city_name1.union(city_name2)"
   ]
  },
  {
   "cell_type": "code",
   "execution_count": 26,
   "id": "d262c894-0da7-4592-b1b5-99225d3171f7",
   "metadata": {
    "tags": []
   },
   "outputs": [
    {
     "data": {
      "text/plain": [
       "{'Berlin', 'Delhi', 'Kabul', 'Madrid', 'Seoul', 'Tokyo'}"
      ]
     },
     "execution_count": 26,
     "metadata": {},
     "output_type": "execute_result"
    }
   ],
   "source": [
    "city_name3"
   ]
  },
  {
   "cell_type": "code",
   "execution_count": 33,
   "id": "2718ad23-0aee-40d5-80ef-07653bf47af8",
   "metadata": {
    "tags": []
   },
   "outputs": [
    {
     "data": {
      "text/plain": [
       "{1, 2, 3, 4, 5, 6}"
      ]
     },
     "execution_count": 33,
     "metadata": {},
     "output_type": "execute_result"
    }
   ],
   "source": [
    "num1 = {1,2,3,4}\n",
    "num2 = {3,4,5,6}\n",
    "num3 = num1.union(num2)\n",
    "num3"
   ]
  },
  {
   "cell_type": "code",
   "execution_count": 35,
   "id": "e7dad7c9-732b-40bb-a546-3a95126d7c01",
   "metadata": {
    "tags": []
   },
   "outputs": [
    {
     "data": {
      "text/plain": [
       "{'Berlin', 'Delhi', 'Kabul', 'Madrid', 'Seoul', 'Tokyo'}"
      ]
     },
     "execution_count": 35,
     "metadata": {},
     "output_type": "execute_result"
    }
   ],
   "source": [
    "city_name1.update(city_name2)\n",
    "city_name1"
   ]
  },
  {
   "cell_type": "code",
   "execution_count": 63,
   "id": "fb9ea656-a520-4b93-b69c-11980d085864",
   "metadata": {
    "tags": []
   },
   "outputs": [
    {
     "data": {
      "text/plain": [
       "{'Berlin',\n",
       " 'Dammam',\n",
       " 'Delhi',\n",
       " 'Jeddah',\n",
       " 'Kabul',\n",
       " 'Madrid',\n",
       " 'Riyadh',\n",
       " 'Seoul',\n",
       " 'Tokyo'}"
      ]
     },
     "execution_count": 63,
     "metadata": {},
     "output_type": "execute_result"
    }
   ],
   "source": [
    "city_name1 = {\"Tokyo\",\"Madrid\",\"Berlin\",\"Delhi\"}\n",
    "city_name2 = {\"Tokyo\",\"Seoul\",\"Kabul\",\"Madrid\"}\n",
    "city_name3 = {\"Riyadh\",\"Seoul\",\"Dammam\",\"Jeddah\"}\n",
    "\n",
    "city_name4 = city_name1.union(city_name2,city_name3)\n",
    "city_name4"
   ]
  },
  {
   "cell_type": "code",
   "execution_count": 65,
   "id": "3814c498-f66d-4f2a-bdb5-35cbe116911a",
   "metadata": {
    "tags": []
   },
   "outputs": [
    {
     "data": {
      "text/plain": [
       "{'Berlin', 'Delhi', 'Kabul', 'Seoul'}"
      ]
     },
     "execution_count": 65,
     "metadata": {},
     "output_type": "execute_result"
    }
   ],
   "source": [
    "city_name1 = {\"Tokyo\",\"Madrid\",\"Berlin\",\"Delhi\"}\n",
    "city_name2 = {\"Tokyo\",\"Seoul\",\"Kabul\",\"Madrid\"}\n",
    "\n",
    "city_name3 = city_name1.symmetric_difference(city_name2)\n",
    "city_name3"
   ]
  },
  {
   "cell_type": "code",
   "execution_count": null,
   "id": "0e5ef371-5eef-4445-a09c-8c2cdd2b914b",
   "metadata": {},
   "outputs": [],
   "source": []
  },
  {
   "cell_type": "markdown",
   "id": "60ef057c-1ee4-4ea0-b277-19023e391e2e",
   "metadata": {},
   "source": [
    "## intersection()"
   ]
  },
  {
   "cell_type": "code",
   "execution_count": 52,
   "id": "32b538d6-583f-4755-b8c2-19bd2d1cb050",
   "metadata": {
    "tags": []
   },
   "outputs": [],
   "source": [
    "city_name1 = {\"Tokyo\",\"Madrid\",\"Berlin\",\"Delhi\"}\n",
    "city_name2 = {\"Tokyo\",\"Seoul\",\"Kabul\",\"Madrid\"}\n",
    "\n",
    "city_name4 = city_name1.intersection(city_name2)"
   ]
  },
  {
   "cell_type": "code",
   "execution_count": 54,
   "id": "575ea89a-35ae-4739-86ac-e4eb1fbae33e",
   "metadata": {
    "tags": []
   },
   "outputs": [
    {
     "data": {
      "text/plain": [
       "{'Madrid', 'Tokyo'}"
      ]
     },
     "execution_count": 54,
     "metadata": {},
     "output_type": "execute_result"
    }
   ],
   "source": [
    "city_name4"
   ]
  },
  {
   "cell_type": "code",
   "execution_count": 60,
   "id": "f52fe650-b463-4ae3-9bf7-5ae8d53c6204",
   "metadata": {
    "tags": []
   },
   "outputs": [
    {
     "data": {
      "text/plain": [
       "{3, 4}"
      ]
     },
     "execution_count": 60,
     "metadata": {},
     "output_type": "execute_result"
    }
   ],
   "source": [
    "num1 = {1,2,3,4}\n",
    "num2 = {3,4,5,6}\n",
    "num3 = num1.intersection(num2)\n",
    "num3"
   ]
  },
  {
   "cell_type": "code",
   "execution_count": 71,
   "id": "f9e44a43-3152-48b2-8756-238487d61df2",
   "metadata": {
    "tags": []
   },
   "outputs": [
    {
     "data": {
      "text/plain": [
       "{1, 2, 5, 6}"
      ]
     },
     "execution_count": 71,
     "metadata": {},
     "output_type": "execute_result"
    }
   ],
   "source": [
    "num1 = {1,2,3,4}\n",
    "num2 = {3,4,5,6}\n",
    "num3 = num1.symmetric_difference(num2)\n",
    "num3"
   ]
  },
  {
   "cell_type": "markdown",
   "id": "3be2bb26-91bf-46e3-969f-54ce87e64a44",
   "metadata": {},
   "source": [
    "## intersection_update()"
   ]
  },
  {
   "cell_type": "code",
   "execution_count": 56,
   "id": "ba18a6ca-d6d2-462d-a1aa-f447bcb97ca3",
   "metadata": {
    "tags": []
   },
   "outputs": [
    {
     "data": {
      "text/plain": [
       "{'Madrid', 'Tokyo'}"
      ]
     },
     "execution_count": 56,
     "metadata": {},
     "output_type": "execute_result"
    }
   ],
   "source": [
    "city_name1.intersection_update(city_name2)\n",
    "city_name1"
   ]
  },
  {
   "cell_type": "code",
   "execution_count": null,
   "id": "24b26d6d-7372-4c5d-83fb-229083381146",
   "metadata": {},
   "outputs": [],
   "source": []
  },
  {
   "cell_type": "markdown",
   "id": "8bf5388e-b624-4642-9edd-ecd783e12130",
   "metadata": {},
   "source": [
    "## Sets Methods"
   ]
  },
  {
   "cell_type": "markdown",
   "id": "a2ff6cb7-0c96-4134-a180-8d90e22836bc",
   "metadata": {
    "tags": []
   },
   "source": [
    "## isdisjoint()\n",
    "The isdijoint() method checks if items of give set are present in another set. The method False if items are present else returns True"
   ]
  },
  {
   "cell_type": "code",
   "execution_count": 78,
   "id": "6b604acc-811a-4f00-ae98-465eebe27c99",
   "metadata": {
    "tags": []
   },
   "outputs": [
    {
     "data": {
      "text/plain": [
       "True"
      ]
     },
     "execution_count": 78,
     "metadata": {},
     "output_type": "execute_result"
    }
   ],
   "source": [
    "city_name1 = {\"Tokyo\",\"Madrid\",\"Berlin\",\"Delhi\"}\n",
    "city_name2 = {\"Tokyo\",\"Seoul\",\"Kabul\",\"Madrid\"}\n",
    "city_name3 = {\"Riyadh\",\"Khobar\",\"Jeddah\"}\n",
    "\n",
    "city_name1.isdisjoint(city_name3)"
   ]
  },
  {
   "cell_type": "code",
   "execution_count": 81,
   "id": "e0aeb7ce-9b5e-40f2-b38a-c3ea802434af",
   "metadata": {
    "tags": []
   },
   "outputs": [
    {
     "data": {
      "text/plain": [
       "False"
      ]
     },
     "execution_count": 81,
     "metadata": {},
     "output_type": "execute_result"
    }
   ],
   "source": [
    "city_name1.isdisjoint(city_name2)"
   ]
  },
  {
   "cell_type": "markdown",
   "id": "e048be97-6ae3-43f2-aa68-0ec45cbb27dd",
   "metadata": {},
   "source": [
    "## add()"
   ]
  },
  {
   "cell_type": "code",
   "execution_count": 84,
   "id": "21c9ed68-5023-43c5-b1cf-7f0768cb05ff",
   "metadata": {
    "tags": []
   },
   "outputs": [],
   "source": [
    "city_name1 = {\"Tokyo\",\"Madrid\",\"Berlin\",\"Delhi\"}"
   ]
  },
  {
   "cell_type": "code",
   "execution_count": 86,
   "id": "386073ed-2fa8-45a2-b9b2-0b2c2090e7e1",
   "metadata": {
    "tags": []
   },
   "outputs": [],
   "source": [
    "city_name1.add(\"Shanghai\")"
   ]
  },
  {
   "cell_type": "code",
   "execution_count": 88,
   "id": "58f4ed7d-0fb7-4d79-be98-ceb344cc9c62",
   "metadata": {
    "tags": []
   },
   "outputs": [
    {
     "data": {
      "text/plain": [
       "{'Berlin', 'Delhi', 'Madrid', 'Shanghai', 'Tokyo'}"
      ]
     },
     "execution_count": 88,
     "metadata": {},
     "output_type": "execute_result"
    }
   ],
   "source": [
    "city_name1"
   ]
  },
  {
   "cell_type": "markdown",
   "id": "d46c6463-3680-4ea6-8e21-3fe68247b3d6",
   "metadata": {},
   "source": [
    "## update()\n",
    "This method is similar to union()"
   ]
  },
  {
   "cell_type": "code",
   "execution_count": 92,
   "id": "0fad6ae9-b3b3-474b-89e4-65b669ba2d25",
   "metadata": {
    "tags": []
   },
   "outputs": [
    {
     "data": {
      "text/plain": [
       "{'Berlin', 'Delhi', 'Kabul', 'Madrid', 'Seoul', 'Tokyo'}"
      ]
     },
     "execution_count": 92,
     "metadata": {},
     "output_type": "execute_result"
    }
   ],
   "source": [
    "city_name1 = {\"Tokyo\",\"Madrid\",\"Berlin\",\"Delhi\"}\n",
    "city_name2 = {\"Tokyo\",\"Seoul\",\"Kabul\",\"Madrid\"}\n",
    "\n",
    "city_name1.update(city_name2)\n",
    "city_name1"
   ]
  },
  {
   "cell_type": "code",
   "execution_count": null,
   "id": "a351bc45-87ab-4bf6-a397-e953aae1e2ad",
   "metadata": {},
   "outputs": [],
   "source": []
  },
  {
   "cell_type": "markdown",
   "id": "f00380e2-6ca5-45ff-9bbf-e38242a5a9bf",
   "metadata": {
    "tags": []
   },
   "source": [
    "## remove() & discard()"
   ]
  },
  {
   "cell_type": "code",
   "execution_count": 98,
   "id": "995303e8-803c-4432-aca8-741e9ff283ef",
   "metadata": {
    "tags": []
   },
   "outputs": [
    {
     "data": {
      "text/plain": [
       "{'Khobar', 'Riyadh'}"
      ]
     },
     "execution_count": 98,
     "metadata": {},
     "output_type": "execute_result"
    }
   ],
   "source": [
    "city_name3 = {\"Riyadh\",\"Khobar\",\"Jeddah\"}\n",
    "\n",
    "city_name3.remove(\"Jeddah\")\n",
    "city_name3"
   ]
  },
  {
   "cell_type": "code",
   "execution_count": 100,
   "id": "f97363e3-b6fe-4103-92d3-3ac8fa6055af",
   "metadata": {
    "tags": []
   },
   "outputs": [
    {
     "ename": "KeyError",
     "evalue": "'Shanghai'",
     "output_type": "error",
     "traceback": [
      "\u001b[1;31m---------------------------------------------------------------------------\u001b[0m",
      "\u001b[1;31mKeyError\u001b[0m                                  Traceback (most recent call last)",
      "Cell \u001b[1;32mIn[100], line 2\u001b[0m\n\u001b[0;32m      1\u001b[0m city_name3 \u001b[38;5;241m=\u001b[39m {\u001b[38;5;124m\"\u001b[39m\u001b[38;5;124mRiyadh\u001b[39m\u001b[38;5;124m\"\u001b[39m,\u001b[38;5;124m\"\u001b[39m\u001b[38;5;124mKhobar\u001b[39m\u001b[38;5;124m\"\u001b[39m,\u001b[38;5;124m\"\u001b[39m\u001b[38;5;124mJeddah\u001b[39m\u001b[38;5;124m\"\u001b[39m}\n\u001b[1;32m----> 2\u001b[0m city_name3\u001b[38;5;241m.\u001b[39mremove(\u001b[38;5;124m\"\u001b[39m\u001b[38;5;124mShanghai\u001b[39m\u001b[38;5;124m\"\u001b[39m)\n\u001b[0;32m      3\u001b[0m city_name3\n",
      "\u001b[1;31mKeyError\u001b[0m: 'Shanghai'"
     ]
    }
   ],
   "source": [
    "city_name3 = {\"Riyadh\",\"Khobar\",\"Jeddah\"}\n",
    "city_name3.remove(\"Shanghai\")\n",
    "city_name3"
   ]
  },
  {
   "cell_type": "code",
   "execution_count": 102,
   "id": "afeeebf0-236d-4bd4-aa9e-166ff9de04c3",
   "metadata": {
    "tags": []
   },
   "outputs": [
    {
     "data": {
      "text/plain": [
       "{'Jeddah', 'Khobar', 'Riyadh'}"
      ]
     },
     "execution_count": 102,
     "metadata": {},
     "output_type": "execute_result"
    }
   ],
   "source": [
    "city_name3 = {\"Riyadh\",\"Khobar\",\"Jeddah\"}\n",
    "city_name3.discard(\"Shanghai\")\n",
    "city_name3"
   ]
  },
  {
   "cell_type": "code",
   "execution_count": 104,
   "id": "897fec91-6dc4-490b-89f1-302b3d697817",
   "metadata": {
    "tags": []
   },
   "outputs": [
    {
     "data": {
      "text/plain": [
       "{'Khobar', 'Riyadh'}"
      ]
     },
     "execution_count": 104,
     "metadata": {},
     "output_type": "execute_result"
    }
   ],
   "source": [
    "city_name3 = {\"Riyadh\",\"Khobar\",\"Jeddah\"}\n",
    "city_name3.discard(\"Jeddah\")\n",
    "city_name3"
   ]
  },
  {
   "cell_type": "markdown",
   "id": "509d3492-02f5-4357-8b98-af93cdedb09e",
   "metadata": {},
   "source": [
    "## pop()\n",
    "Removes a randon element from a set"
   ]
  },
  {
   "cell_type": "code",
   "execution_count": 111,
   "id": "33adc7c5-9a90-4d2d-9075-ccd34cecd8e8",
   "metadata": {
    "tags": []
   },
   "outputs": [
    {
     "data": {
      "text/plain": [
       "'Madrid'"
      ]
     },
     "execution_count": 111,
     "metadata": {},
     "output_type": "execute_result"
    }
   ],
   "source": [
    "city_name1 = {\"Tokyo\",\"Madrid\",\"Berlin\",\"Delhi\"}\n",
    "\n",
    "city_name1.pop()"
   ]
  },
  {
   "cell_type": "code",
   "execution_count": 113,
   "id": "2e3282fe-1b54-42c7-bf1d-efe4a45411cd",
   "metadata": {
    "tags": []
   },
   "outputs": [
    {
     "data": {
      "text/plain": [
       "{'Berlin', 'Delhi', 'Tokyo'}"
      ]
     },
     "execution_count": 113,
     "metadata": {},
     "output_type": "execute_result"
    }
   ],
   "source": [
    "city_name1"
   ]
  },
  {
   "cell_type": "code",
   "execution_count": 115,
   "id": "5b0185d2-801b-4e83-b587-db19102d25d8",
   "metadata": {
    "tags": []
   },
   "outputs": [
    {
     "data": {
      "text/plain": [
       "'Madrid'"
      ]
     },
     "execution_count": 115,
     "metadata": {},
     "output_type": "execute_result"
    }
   ],
   "source": [
    "city_name1 = {\"Tokyo\",\"Madrid\",\"Berlin\",\"Delhi\",\"Shanghai\"}\n",
    "city_name1.pop()"
   ]
  },
  {
   "cell_type": "code",
   "execution_count": 117,
   "id": "a0df4b44-3504-40cb-9c1b-4a7f7782525b",
   "metadata": {
    "tags": []
   },
   "outputs": [
    {
     "data": {
      "text/plain": [
       "'Berlin'"
      ]
     },
     "execution_count": 117,
     "metadata": {},
     "output_type": "execute_result"
    }
   ],
   "source": [
    "city_name1.pop()"
   ]
  },
  {
   "cell_type": "code",
   "execution_count": 119,
   "id": "257f4f99-249b-47a6-8c71-4c5675cc5957",
   "metadata": {
    "tags": []
   },
   "outputs": [
    {
     "data": {
      "text/plain": [
       "'Delhi'"
      ]
     },
     "execution_count": 119,
     "metadata": {},
     "output_type": "execute_result"
    }
   ],
   "source": [
    "city_name1.pop()"
   ]
  },
  {
   "cell_type": "code",
   "execution_count": 121,
   "id": "74196286-7778-4bfe-930b-a761f5d8ba0f",
   "metadata": {
    "tags": []
   },
   "outputs": [
    {
     "data": {
      "text/plain": [
       "'Shanghai'"
      ]
     },
     "execution_count": 121,
     "metadata": {},
     "output_type": "execute_result"
    }
   ],
   "source": [
    "city_name1.pop()"
   ]
  },
  {
   "cell_type": "code",
   "execution_count": 123,
   "id": "c3a5054e-04bf-4152-8cd1-dc12c43f8316",
   "metadata": {
    "tags": []
   },
   "outputs": [
    {
     "data": {
      "text/plain": [
       "'Tokyo'"
      ]
     },
     "execution_count": 123,
     "metadata": {},
     "output_type": "execute_result"
    }
   ],
   "source": [
    "city_name1.pop()"
   ]
  },
  {
   "cell_type": "code",
   "execution_count": 136,
   "id": "59b126d9-3dbd-4adb-9b87-fc66ed68b9b5",
   "metadata": {
    "tags": []
   },
   "outputs": [
    {
     "data": {
      "text/plain": [
       "['Madrid', 'Berlin', 'Delhi', 'Shanghai', 'Tokyo']"
      ]
     },
     "execution_count": 136,
     "metadata": {},
     "output_type": "execute_result"
    }
   ],
   "source": [
    "city_name1 = {\"Tokyo\",\"Madrid\",\"Berlin\",\"Delhi\",\"Shanghai\"}\n",
    "cities = list(city_name1)\n",
    "cities"
   ]
  },
  {
   "cell_type": "code",
   "execution_count": 138,
   "id": "9af02061-ec0d-41ed-b682-300c10ac535d",
   "metadata": {
    "tags": []
   },
   "outputs": [
    {
     "data": {
      "text/plain": [
       "'Tokyo'"
      ]
     },
     "execution_count": 138,
     "metadata": {},
     "output_type": "execute_result"
    }
   ],
   "source": [
    "cities.pop()"
   ]
  },
  {
   "cell_type": "code",
   "execution_count": 140,
   "id": "4065460b-32ba-4cd9-85ed-547e49145648",
   "metadata": {
    "tags": []
   },
   "outputs": [],
   "source": [
    "city_name1 = set(cities)"
   ]
  },
  {
   "cell_type": "code",
   "execution_count": 142,
   "id": "020dd747-45bf-4b93-82d0-4bee05e9c637",
   "metadata": {
    "tags": []
   },
   "outputs": [
    {
     "data": {
      "text/plain": [
       "{'Berlin', 'Delhi', 'Madrid', 'Shanghai'}"
      ]
     },
     "execution_count": 142,
     "metadata": {},
     "output_type": "execute_result"
    }
   ],
   "source": [
    "city_name1"
   ]
  },
  {
   "cell_type": "code",
   "execution_count": null,
   "id": "2c3fd897-f32a-4da2-8e94-28b7fc28b957",
   "metadata": {},
   "outputs": [],
   "source": []
  },
  {
   "cell_type": "markdown",
   "id": "6c237bd3-cd96-42dd-82b1-159e1008d8dc",
   "metadata": {
    "tags": []
   },
   "source": [
    "## clear()"
   ]
  },
  {
   "cell_type": "code",
   "execution_count": 147,
   "id": "510d3590-8ce9-4e44-aef2-6dd73b5cbc00",
   "metadata": {
    "tags": []
   },
   "outputs": [
    {
     "data": {
      "text/plain": [
       "set()"
      ]
     },
     "execution_count": 147,
     "metadata": {},
     "output_type": "execute_result"
    }
   ],
   "source": [
    "city_name1 = {\"Tokyo\",\"Madrid\",\"Berlin\",\"Delhi\",\"Shanghai\"}\n",
    "city_name1.clear()\n",
    "city_name1"
   ]
  },
  {
   "cell_type": "markdown",
   "id": "278afbe2-13b6-4ec1-9402-4579e621dc2b",
   "metadata": {
    "tags": []
   },
   "source": [
    "## enumerate()"
   ]
  },
  {
   "cell_type": "code",
   "execution_count": 152,
   "id": "65c19201-8648-451b-a6e4-804d08d0efa0",
   "metadata": {
    "tags": []
   },
   "outputs": [],
   "source": [
    "names = ['Praveen','Srinu','Prasad']"
   ]
  },
  {
   "cell_type": "code",
   "execution_count": 156,
   "id": "755a3ad7-5ae3-4049-b7c7-3f98bdfad22c",
   "metadata": {
    "tags": []
   },
   "outputs": [
    {
     "name": "stdout",
     "output_type": "stream",
     "text": [
      "0 Praveen\n",
      "1 Srinu\n",
      "2 Prasad\n"
     ]
    }
   ],
   "source": [
    "for name in range(len(names)):\n",
    "    print(name, names[name])"
   ]
  },
  {
   "cell_type": "code",
   "execution_count": 166,
   "id": "09994df5-348b-4c90-bcfc-aafecfba0885",
   "metadata": {
    "tags": []
   },
   "outputs": [
    {
     "name": "stdout",
     "output_type": "stream",
     "text": [
      "(0, 'Praveen')\n",
      "(1, 'Srinu')\n",
      "(2, 'Prasad')\n"
     ]
    }
   ],
   "source": [
    "for i in enumerate(names):\n",
    "    print(i)"
   ]
  },
  {
   "cell_type": "code",
   "execution_count": 164,
   "id": "a2cc531b-2a38-4ac6-85c5-cc78697a0b02",
   "metadata": {
    "tags": []
   },
   "outputs": [
    {
     "name": "stdout",
     "output_type": "stream",
     "text": [
      "0 Praveen\n",
      "1 Srinu\n",
      "2 Prasad\n"
     ]
    }
   ],
   "source": [
    "for i,j in enumerate(names):\n",
    "    print(i,j)"
   ]
  },
  {
   "cell_type": "code",
   "execution_count": 178,
   "id": "2673ee25-1582-4d0f-855b-c3b3e21a6111",
   "metadata": {
    "tags": []
   },
   "outputs": [
    {
     "data": {
      "text/plain": [
       "dict"
      ]
     },
     "execution_count": 178,
     "metadata": {},
     "output_type": "execute_result"
    }
   ],
   "source": [
    "dict = {\"name\":\"Praveen\",\"email\":\"praveen.panchakarla@gmail.com\",\"age\":46}\n",
    "type(dict)"
   ]
  },
  {
   "cell_type": "code",
   "execution_count": 180,
   "id": "1529cac8-06e5-4b35-8c08-815a1fa3e1c1",
   "metadata": {
    "tags": []
   },
   "outputs": [
    {
     "name": "stdout",
     "output_type": "stream",
     "text": [
      "(0, 'name')\n",
      "(1, 'email')\n",
      "(2, 'age')\n"
     ]
    }
   ],
   "source": [
    "for key in enumerate(dict):\n",
    "    print(key)"
   ]
  },
  {
   "cell_type": "code",
   "execution_count": null,
   "id": "8740c0d7-fd92-46ce-b0f9-fba3af3151ec",
   "metadata": {},
   "outputs": [],
   "source": []
  },
  {
   "cell_type": "code",
   "execution_count": null,
   "id": "266f0b1f-6005-4d8c-bb55-480daf7eff8f",
   "metadata": {},
   "outputs": [],
   "source": []
  },
  {
   "cell_type": "code",
   "execution_count": null,
   "id": "1e2bea7f-31b3-470a-859f-616e6dac763c",
   "metadata": {},
   "outputs": [],
   "source": []
  },
  {
   "cell_type": "code",
   "execution_count": null,
   "id": "82d8bd14-f32a-449e-bdf4-ea0312315ed4",
   "metadata": {},
   "outputs": [],
   "source": []
  },
  {
   "cell_type": "code",
   "execution_count": null,
   "id": "6a030b24-b938-4744-b7d0-6b75cd2d3af1",
   "metadata": {},
   "outputs": [],
   "source": []
  },
  {
   "cell_type": "code",
   "execution_count": null,
   "id": "4c23d582-0601-4579-ba88-c2a64722b23a",
   "metadata": {},
   "outputs": [],
   "source": []
  },
  {
   "cell_type": "code",
   "execution_count": null,
   "id": "bb8c5d42-d431-4511-952a-fd7e8a40c7e5",
   "metadata": {},
   "outputs": [],
   "source": []
  },
  {
   "cell_type": "code",
   "execution_count": null,
   "id": "a6b03990-6faf-4781-a1d3-80335b460a2e",
   "metadata": {},
   "outputs": [],
   "source": []
  },
  {
   "cell_type": "code",
   "execution_count": null,
   "id": "ad54f6d0-7c42-4c64-94b5-3af2fd957dd0",
   "metadata": {},
   "outputs": [],
   "source": []
  },
  {
   "cell_type": "code",
   "execution_count": null,
   "id": "ee3436a0-4358-4812-b00a-bbf22c490eef",
   "metadata": {},
   "outputs": [],
   "source": []
  },
  {
   "cell_type": "code",
   "execution_count": null,
   "id": "63afe6d2-4076-460b-aa6c-228c58a6787c",
   "metadata": {},
   "outputs": [],
   "source": []
  },
  {
   "cell_type": "code",
   "execution_count": null,
   "id": "f1676c52-7bf7-4141-8271-8ba458814eb0",
   "metadata": {},
   "outputs": [],
   "source": []
  },
  {
   "cell_type": "code",
   "execution_count": null,
   "id": "2329876e-8fb5-4996-b23b-f4a53696b50a",
   "metadata": {},
   "outputs": [],
   "source": []
  },
  {
   "cell_type": "code",
   "execution_count": null,
   "id": "0494d377-b1cb-4d63-a9b2-b307c65b3237",
   "metadata": {},
   "outputs": [],
   "source": []
  },
  {
   "cell_type": "code",
   "execution_count": null,
   "id": "1fe8dd81-face-4aef-953f-df9ce785e0dc",
   "metadata": {},
   "outputs": [],
   "source": []
  }
 ],
 "metadata": {
  "kernelspec": {
   "display_name": "Python 3 (ipykernel)",
   "language": "python",
   "name": "python3"
  },
  "language_info": {
   "codemirror_mode": {
    "name": "ipython",
    "version": 3
   },
   "file_extension": ".py",
   "mimetype": "text/x-python",
   "name": "python",
   "nbconvert_exporter": "python",
   "pygments_lexer": "ipython3",
   "version": "3.11.7"
  }
 },
 "nbformat": 4,
 "nbformat_minor": 5
}
