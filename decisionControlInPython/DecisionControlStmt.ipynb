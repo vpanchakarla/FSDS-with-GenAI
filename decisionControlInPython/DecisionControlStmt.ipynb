{
 "cells": [
  {
   "cell_type": "markdown",
   "metadata": {},
   "source": [
    "# Decision Control Statement"
   ]
  },
  {
   "cell_type": "markdown",
   "metadata": {},
   "source": [
    "#1 If Statement"
   ]
  },
  {
   "cell_type": "code",
   "execution_count": 1,
   "metadata": {
    "tags": []
   },
   "outputs": [],
   "source": [
    "hungry = True"
   ]
  },
  {
   "cell_type": "code",
   "execution_count": 3,
   "metadata": {
    "tags": []
   },
   "outputs": [
    {
     "name": "stdout",
     "output_type": "stream",
     "text": [
      "Order Biryani\n",
      "Eat It\n"
     ]
    }
   ],
   "source": [
    "if hungry:\n",
    "    print(\"Order Biryani\")\n",
    "    print(\"Eat It\")"
   ]
  },
  {
   "cell_type": "markdown",
   "metadata": {},
   "source": [
    "# Indentation - tab or 4 spaces to indent code"
   ]
  },
  {
   "cell_type": "code",
   "execution_count": 3,
   "metadata": {},
   "outputs": [
    {
     "name": "stdout",
     "output_type": "stream",
     "text": [
      "Order Biryani\n",
      "Eat It\n"
     ]
    }
   ],
   "source": [
    "if hungry:\n",
    "    print(\"Order Biryani\")\n",
    "print(\"Eat It\")"
   ]
  },
  {
   "cell_type": "code",
   "execution_count": 4,
   "metadata": {},
   "outputs": [],
   "source": [
    "hungry = False"
   ]
  },
  {
   "cell_type": "code",
   "execution_count": 5,
   "metadata": {},
   "outputs": [
    {
     "name": "stdout",
     "output_type": "stream",
     "text": [
      "Eat It\n"
     ]
    }
   ],
   "source": [
    "if hungry:\n",
    "    print(\"Order Biryani\")\n",
    "print(\"Eat It\")"
   ]
  },
  {
   "cell_type": "code",
   "execution_count": 9,
   "metadata": {},
   "outputs": [],
   "source": [
    "if (hungry):  # don't use brackets\n",
    "    print(\"Order Biryani\")\n",
    "    print(\"Eat It\")"
   ]
  },
  {
   "cell_type": "code",
   "execution_count": 10,
   "metadata": {},
   "outputs": [],
   "source": [
    "# WAP to chech whether a number is even or not"
   ]
  },
  {
   "cell_type": "code",
   "execution_count": 14,
   "metadata": {},
   "outputs": [],
   "source": [
    "number = 5"
   ]
  },
  {
   "cell_type": "code",
   "execution_count": 17,
   "metadata": {},
   "outputs": [],
   "source": [
    "if (int(number) % 2 == 0):\n",
    "    print ('Even Number')"
   ]
  },
  {
   "cell_type": "code",
   "execution_count": 16,
   "metadata": {},
   "outputs": [
    {
     "name": "stdout",
     "output_type": "stream",
     "text": [
      "Odd Number\n"
     ]
    }
   ],
   "source": [
    "if (int(number) % 2 != 0):\n",
    "    print ('Odd Number')"
   ]
  },
  {
   "cell_type": "code",
   "execution_count": 1,
   "metadata": {},
   "outputs": [],
   "source": [
    "# WAP to ask user if he's hungry order food else eat dessert"
   ]
  },
  {
   "cell_type": "code",
   "execution_count": 2,
   "metadata": {},
   "outputs": [],
   "source": [
    "hungry = True"
   ]
  },
  {
   "cell_type": "code",
   "execution_count": 5,
   "metadata": {},
   "outputs": [
    {
     "name": "stdout",
     "output_type": "stream",
     "text": [
      "You are hungry\n",
      "Order Biryani\n"
     ]
    }
   ],
   "source": [
    "if hungry:\n",
    "    print(\"You are hungry\")\n",
    "    print(\"Order Biryani\")\n",
    "if not hungry:\n",
    "    print(\"Eat Dessert\")"
   ]
  },
  {
   "cell_type": "code",
   "execution_count": 15,
   "metadata": {},
   "outputs": [],
   "source": [
    "hungry = \"A\""
   ]
  },
  {
   "cell_type": "code",
   "execution_count": 7,
   "metadata": {},
   "outputs": [
    {
     "name": "stdout",
     "output_type": "stream",
     "text": [
      "Eat Dessert\n"
     ]
    }
   ],
   "source": [
    "if hungry:\n",
    "    print(\"You are hungry\")\n",
    "    print(\"Order Biryani\")\n",
    "else:\n",
    "    print(\"Eat Dessert\")"
   ]
  },
  {
   "cell_type": "code",
   "execution_count": 16,
   "metadata": {},
   "outputs": [
    {
     "name": "stdout",
     "output_type": "stream",
     "text": [
      "You are hungry\n",
      "Order Biryani\n"
     ]
    }
   ],
   "source": [
    "if hungry:\n",
    "    print(\"You are hungry\")\n",
    "    print(\"Order Biryani\")\n",
    "elif not hungry:\n",
    "    print(\"Eat Dessert\")\n",
    "else:\n",
    "    print(\"Do Nothing\")"
   ]
  },
  {
   "cell_type": "code",
   "execution_count": 12,
   "metadata": {},
   "outputs": [
    {
     "name": "stdout",
     "output_type": "stream",
     "text": [
      "You are passed\n"
     ]
    }
   ],
   "source": [
    "marks = 45\n",
    "passingMarks = 40\n",
    "\n",
    "if(marks > passingMarks):\n",
    "    print(\"You are passed\")\n",
    "else:\n",
    "    print(\"You are failed\")"
   ]
  },
  {
   "cell_type": "code",
   "execution_count": 17,
   "metadata": {},
   "outputs": [],
   "source": [
    "# WAP to get students marks and give them grade"
   ]
  },
  {
   "cell_type": "code",
   "execution_count": null,
   "metadata": {},
   "outputs": [],
   "source": [
    "80-100 'A'\n",
    "60-80 'B'\n",
    "50-60 'C'\n",
    "40-50 'D'\n",
    "<40 'F'"
   ]
  },
  {
   "cell_type": "code",
   "execution_count": 30,
   "metadata": {},
   "outputs": [],
   "source": [
    "marks = 35"
   ]
  },
  {
   "cell_type": "code",
   "execution_count": 20,
   "metadata": {},
   "outputs": [
    {
     "name": "stdout",
     "output_type": "stream",
     "text": [
      "Grade A\n"
     ]
    }
   ],
   "source": [
    "if (marks >= 80):\n",
    "    print ('Grade A')\n",
    "\n",
    "if (marks >=60 and marks < 80):\n",
    "    print ('Grade B')\n",
    "\n",
    "if (marks >=50 and marks < 60):\n",
    "    print ('Grade C')\n",
    "\n",
    "if (marks >=40 and marks < 50):\n",
    "    print ('Grade D')\n",
    "\n",
    "if (marks < 40):\n",
    "    print ('Grade F')"
   ]
  },
  {
   "cell_type": "code",
   "execution_count": 32,
   "metadata": {},
   "outputs": [],
   "source": [
    "# If Elif Statement"
   ]
  },
  {
   "cell_type": "code",
   "execution_count": 33,
   "metadata": {},
   "outputs": [
    {
     "name": "stdout",
     "output_type": "stream",
     "text": [
      "Your Grade is 'F'\n",
      "Better luck next time\n"
     ]
    }
   ],
   "source": [
    "if (marks >= 80):\n",
    "    print ('Your Grade is \\'A\\'')\n",
    "    print ('You can eat Biryani')\n",
    "elif (marks >=60 and marks < 80):\n",
    "    print ('Your Grade is \\'B\\'')\n",
    "    print ('You can eat Cake')\n",
    "elif (marks >=50 and marks < 60):\n",
    "    print ('Your Grade is \\'C\\'')\n",
    "    print ('You can eat Salad')\n",
    "elif (marks >=40 and marks < 50):\n",
    "    print ('Your Grade is \\'D\\'')\n",
    "    print ('You can eat Dal at home')\n",
    "else:\n",
    "    print ('Your Grade is \\'F\\'')\n",
    "    print ('Better luck next time')\n",
    "    "
   ]
  },
  {
   "cell_type": "code",
   "execution_count": 35,
   "metadata": {},
   "outputs": [],
   "source": [
    "# WAP to take a character from user and show below\n",
    "# A to Z - Capital Letter\n",
    "# a to b - Small Letter\n",
    "# 0 to 0 - Number\n",
    "# Special Character"
   ]
  },
  {
   "cell_type": "code",
   "execution_count": 87,
   "metadata": {},
   "outputs": [],
   "source": [
    "char='#'"
   ]
  },
  {
   "cell_type": "code",
   "execution_count": 88,
   "metadata": {},
   "outputs": [
    {
     "name": "stdout",
     "output_type": "stream",
     "text": [
      "35\n"
     ]
    }
   ],
   "source": [
    "asciiValue = ord(char)\n",
    "print(asciiValue)"
   ]
  },
  {
   "cell_type": "code",
   "execution_count": 89,
   "metadata": {},
   "outputs": [
    {
     "name": "stdout",
     "output_type": "stream",
     "text": [
      "It's a special character\n"
     ]
    }
   ],
   "source": [
    "if (asciiValue >= 97 and asciiValue <= 122):\n",
    "    print ('It\\'s a small letter')\n",
    "elif (asciiValue >= 65 and asciiValue <= 90):\n",
    "    print ('It\\'s a capital letter')\n",
    "elif (asciiValue >= 48 and asciiValue <= 57):\n",
    "    print ('It\\'s a number')\n",
    "else:\n",
    "    print ('It\\'s a special character')\n"
   ]
  },
  {
   "cell_type": "code",
   "execution_count": 103,
   "metadata": {},
   "outputs": [],
   "source": [
    "# Nested If Else conditions"
   ]
  },
  {
   "cell_type": "code",
   "execution_count": 102,
   "metadata": {},
   "outputs": [
    {
     "name": "stdout",
     "output_type": "stream",
     "text": [
      "You are hungry\n",
      "Goto Restaurant\n",
      "Order Dal & Roti\n"
     ]
    }
   ],
   "source": [
    "hungry = True\n",
    "money = 500\n",
    "dietVeg = True\n",
    "\n",
    "if hungry: \n",
    "    print(\"You are hungry\")\n",
    "    if money >= 400:\n",
    "        print (\"Goto Restaurant\")\n",
    "        if dietVeg is True:\n",
    "            print (\"Order Dal & Roti\")\n",
    "    elif money >= 200 and money < 400:\n",
    "        print (\"Order Online\")\n",
    "    else:\n",
    "        print (\"Put a wet tower on your stomach and sleep\")\n",
    "else:\n",
    "    print (\"You are not hungry\")\n",
    "    if money > 0:\n",
    "        print (\"Invest it\")\n",
    "    else:\n",
    "        print (\"Sleep\")"
   ]
  },
  {
   "cell_type": "code",
   "execution_count": null,
   "metadata": {},
   "outputs": [],
   "source": []
  },
  {
   "cell_type": "code",
   "execution_count": 118,
   "metadata": {},
   "outputs": [],
   "source": [
    "# WAP to input a year from user and check if it's a leap year\n",
    "# Examples:\n",
    "# 2000 ---> Yes\n",
    "# 2001 ---> No\n",
    "# This needs a revision"
   ]
  },
  {
   "cell_type": "code",
   "execution_count": 119,
   "metadata": {},
   "outputs": [
    {
     "name": "stdout",
     "output_type": "stream",
     "text": [
      "It's a Leap Year\n"
     ]
    }
   ],
   "source": [
    "year = 2000\n",
    "\n",
    "if (year%4 == 0):\n",
    "    if(year%100 == 0):\n",
    "        if(year%400 == 0):\n",
    "            print (\"It\\'s a Leap Year\")\n",
    "        else:\n",
    "            print (\"It\\'s a Non-Leap Year\")\n",
    "    else:\n",
    "        print (\"It\\'s a Non-Leap Year\")\n",
    "else:\n",
    "    print (\"It\\'s a Non-Leap Year\")"
   ]
  },
  {
   "cell_type": "code",
   "execution_count": null,
   "metadata": {},
   "outputs": [],
   "source": []
  }
 ],
 "metadata": {
  "kernelspec": {
   "display_name": "Python 3 (ipykernel)",
   "language": "python",
   "name": "python3"
  },
  "language_info": {
   "codemirror_mode": {
    "name": "ipython",
    "version": 3
   },
   "file_extension": ".py",
   "mimetype": "text/x-python",
   "name": "python",
   "nbconvert_exporter": "python",
   "pygments_lexer": "ipython3",
   "version": "3.11.7"
  }
 },
 "nbformat": 4,
 "nbformat_minor": 4
}
