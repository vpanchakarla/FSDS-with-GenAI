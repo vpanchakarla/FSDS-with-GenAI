{
 "cells": [
  {
   "cell_type": "code",
   "execution_count": 5,
   "id": "598b9b0c-0244-4673-98d4-d0d9152451de",
   "metadata": {
    "tags": []
   },
   "outputs": [],
   "source": [
    "cars = ('Mercedes','BMW','Audi','Jaguar','Range Rover','BMW')\n",
    "type(cars)\n",
    "newCars = list(cars)"
   ]
  },
  {
   "cell_type": "code",
   "execution_count": 7,
   "id": "177fabac-885c-4a89-9d91-4b4c578266b9",
   "metadata": {
    "tags": []
   },
   "outputs": [
    {
     "data": {
      "text/plain": [
       "list"
      ]
     },
     "execution_count": 7,
     "metadata": {},
     "output_type": "execute_result"
    }
   ],
   "source": [
    "type(newCars)"
   ]
  },
  {
   "cell_type": "code",
   "execution_count": 9,
   "id": "bd880987-e308-481a-876a-6ce27d5edcc3",
   "metadata": {
    "tags": []
   },
   "outputs": [],
   "source": [
    "newCars.append('Toyota')"
   ]
  },
  {
   "cell_type": "code",
   "execution_count": 11,
   "id": "ae504977-fed8-494d-a5f6-ea4fe70dca6b",
   "metadata": {
    "tags": []
   },
   "outputs": [
    {
     "data": {
      "text/plain": [
       "['Mercedes', 'BMW', 'Audi', 'Jaguar', 'Range Rover', 'BMW', 'Toyota']"
      ]
     },
     "execution_count": 11,
     "metadata": {},
     "output_type": "execute_result"
    }
   ],
   "source": [
    "newCars"
   ]
  },
  {
   "cell_type": "code",
   "execution_count": 13,
   "id": "2244b666-6518-4dfd-87ba-1fe0eb9a2aad",
   "metadata": {
    "tags": []
   },
   "outputs": [],
   "source": [
    "cars  = tuple(newCars)"
   ]
  },
  {
   "cell_type": "code",
   "execution_count": 15,
   "id": "6100ec7e-be97-405f-8c44-ed55b9a4d6d0",
   "metadata": {
    "tags": []
   },
   "outputs": [
    {
     "data": {
      "text/plain": [
       "('Mercedes', 'BMW', 'Audi', 'Jaguar', 'Range Rover', 'BMW', 'Toyota')"
      ]
     },
     "execution_count": 15,
     "metadata": {},
     "output_type": "execute_result"
    }
   ],
   "source": [
    "cars"
   ]
  },
  {
   "cell_type": "code",
   "execution_count": 17,
   "id": "a6ab36c8-2b65-4e41-a0f6-6893b874beb3",
   "metadata": {
    "tags": []
   },
   "outputs": [
    {
     "data": {
      "text/plain": [
       "tuple"
      ]
     },
     "execution_count": 17,
     "metadata": {},
     "output_type": "execute_result"
    }
   ],
   "source": [
    "type(cars)"
   ]
  },
  {
   "cell_type": "code",
   "execution_count": 20,
   "id": "b1af1465-8d30-4b3c-a6b3-abeed0c4d0ee",
   "metadata": {
    "tags": []
   },
   "outputs": [],
   "source": [
    "nums = (1,2,3,4,5)"
   ]
  },
  {
   "cell_type": "code",
   "execution_count": 22,
   "id": "c5e7477e-5615-499a-8a14-1afc8f9fb3fa",
   "metadata": {
    "tags": []
   },
   "outputs": [
    {
     "data": {
      "text/plain": [
       "tuple"
      ]
     },
     "execution_count": 22,
     "metadata": {},
     "output_type": "execute_result"
    }
   ],
   "source": [
    "type(nums)"
   ]
  },
  {
   "cell_type": "code",
   "execution_count": 24,
   "id": "82d226e1-ccf9-4560-94a8-8c1427f72277",
   "metadata": {
    "tags": []
   },
   "outputs": [],
   "source": [
    "numList = list(nums)"
   ]
  },
  {
   "cell_type": "code",
   "execution_count": 26,
   "id": "c4ef8358-57f2-4517-aa84-c8efe34c8856",
   "metadata": {
    "tags": []
   },
   "outputs": [
    {
     "data": {
      "text/plain": [
       "list"
      ]
     },
     "execution_count": 26,
     "metadata": {},
     "output_type": "execute_result"
    }
   ],
   "source": [
    "type(numList)"
   ]
  },
  {
   "cell_type": "code",
   "execution_count": 28,
   "id": "b5dc9f08-be10-40bd-95f9-3ff1ba13966e",
   "metadata": {
    "tags": []
   },
   "outputs": [],
   "source": [
    "numList.append(6)"
   ]
  },
  {
   "cell_type": "code",
   "execution_count": 30,
   "id": "37367234-4186-4dab-b056-c63f40abd3c8",
   "metadata": {
    "tags": []
   },
   "outputs": [
    {
     "data": {
      "text/plain": [
       "[1, 2, 3, 4, 5, 6]"
      ]
     },
     "execution_count": 30,
     "metadata": {},
     "output_type": "execute_result"
    }
   ],
   "source": [
    "numList"
   ]
  },
  {
   "cell_type": "code",
   "execution_count": 32,
   "id": "e543ff08-0eab-4b46-878d-f0234327c543",
   "metadata": {
    "tags": []
   },
   "outputs": [],
   "source": [
    "num = tuple(numList)"
   ]
  },
  {
   "cell_type": "code",
   "execution_count": 34,
   "id": "8462da9b-5dcc-462d-a48f-f9ac8988da6d",
   "metadata": {
    "tags": []
   },
   "outputs": [
    {
     "data": {
      "text/plain": [
       "(1, 2, 3, 4, 5, 6)"
      ]
     },
     "execution_count": 34,
     "metadata": {},
     "output_type": "execute_result"
    }
   ],
   "source": [
    "num"
   ]
  },
  {
   "cell_type": "code",
   "execution_count": null,
   "id": "18f49600-0ff5-4fa1-a6b2-02b6fa01f7c7",
   "metadata": {},
   "outputs": [],
   "source": []
  }
 ],
 "metadata": {
  "kernelspec": {
   "display_name": "Python 3 (ipykernel)",
   "language": "python",
   "name": "python3"
  },
  "language_info": {
   "codemirror_mode": {
    "name": "ipython",
    "version": 3
   },
   "file_extension": ".py",
   "mimetype": "text/x-python",
   "name": "python",
   "nbconvert_exporter": "python",
   "pygments_lexer": "ipython3",
   "version": "3.11.7"
  }
 },
 "nbformat": 4,
 "nbformat_minor": 5
}
