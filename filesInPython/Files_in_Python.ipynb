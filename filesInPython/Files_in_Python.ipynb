{
 "cells": [
  {
   "cell_type": "markdown",
   "id": "4df43f6a-0fa9-41af-b383-f4e3757795ac",
   "metadata": {},
   "source": [
    "## Working with Files in Python\n",
    "1) Read Mode --> \"r\"\n",
    "2) Append Mode --> \"a\"\n",
    "3) Write Mode --> \"w\"\n",
    "4) Create mode --> \"x\"\n",
    "5) Read Text Only --> \"t\"\n",
    "6) Read Binary Data --> \"b\""
   ]
  },
  {
   "cell_type": "markdown",
   "id": "e05ddecc-392e-4943-bbfe-2128af82300b",
   "metadata": {},
   "source": [
    "## open file"
   ]
  },
  {
   "cell_type": "code",
   "execution_count": 15,
   "id": "114913d8-b250-4d84-8067-4640838bd682",
   "metadata": {
    "tags": []
   },
   "outputs": [
    {
     "name": "stdout",
     "output_type": "stream",
     "text": [
      "Hello World! This is Praveen\n",
      "Welcome to my world\n"
     ]
    }
   ],
   "source": [
    "myText = open(\"test1.txt\",\"r\")\n",
    "print(myText.read())"
   ]
  },
  {
   "cell_type": "code",
   "execution_count": 17,
   "id": "033d3330-d605-4650-9679-85c50f0329af",
   "metadata": {
    "tags": []
   },
   "outputs": [
    {
     "name": "stdout",
     "output_type": "stream",
     "text": [
      "Hello World! This is Praveen\n",
      "Welcome to my world\n"
     ]
    }
   ],
   "source": [
    "myText = open(\"data/test1.txt\",\"r\")\n",
    "print(myText.read())"
   ]
  },
  {
   "cell_type": "code",
   "execution_count": 21,
   "id": "59c033e0-b082-42aa-b6eb-b5e65a2ed802",
   "metadata": {
    "tags": []
   },
   "outputs": [
    {
     "name": "stdout",
     "output_type": "stream",
     "text": [
      "Hello World! This is Praveen\n",
      "\n",
      "Welcome to my world\n"
     ]
    }
   ],
   "source": [
    "myText = open(\"test1.txt\",\"r\")\n",
    "print(myText.readline())\n",
    "print(myText.readline())"
   ]
  },
  {
   "cell_type": "code",
   "execution_count": null,
   "id": "84def959-9637-44ee-b798-9c096dde97a5",
   "metadata": {},
   "outputs": [],
   "source": []
  },
  {
   "cell_type": "markdown",
   "id": "370c36da-8a07-406f-ad79-c423842b9f81",
   "metadata": {},
   "source": [
    "## close file --> It is always good practice to close a file when we are done with file operations"
   ]
  },
  {
   "cell_type": "code",
   "execution_count": 64,
   "id": "664583c7-87cf-450a-85ff-cce7e28b7dfe",
   "metadata": {
    "tags": []
   },
   "outputs": [
    {
     "name": "stdout",
     "output_type": "stream",
     "text": [
      "Hello World! This is Praveen\n",
      "Welcome to my world\n"
     ]
    },
    {
     "data": {
      "text/plain": [
       "_io.TextIOWrapper"
      ]
     },
     "execution_count": 64,
     "metadata": {},
     "output_type": "execute_result"
    }
   ],
   "source": [
    "myText = open(\"test1.txt\",\"r\")\n",
    "print(myText.read())\n",
    "type(myText)"
   ]
  },
  {
   "cell_type": "code",
   "execution_count": 27,
   "id": "603b2060-1954-4138-99e2-0ca1d4f2c553",
   "metadata": {
    "tags": []
   },
   "outputs": [],
   "source": [
    "myText.close()"
   ]
  },
  {
   "cell_type": "code",
   "execution_count": 51,
   "id": "91b3a856-0b7f-4817-8afc-5bd27bcf2123",
   "metadata": {
    "tags": []
   },
   "outputs": [
    {
     "name": "stdout",
     "output_type": "stream",
     "text": [
      "(0, 'Hello World! This is Praveen\\n')\n",
      "(1, 'Welcome to my world')\n"
     ]
    }
   ],
   "source": [
    "myFile = open(\"test1.txt\",\"r\")\n",
    "for line in enumerate(myFile):\n",
    "    print(line)"
   ]
  },
  {
   "cell_type": "code",
   "execution_count": 45,
   "id": "58fd9f56-b386-4b6c-9ccc-363fb0f7bb66",
   "metadata": {
    "tags": []
   },
   "outputs": [
    {
     "name": "stdout",
     "output_type": "stream",
     "text": [
      "Hello World! This is Praveen\n",
      "\n"
     ]
    }
   ],
   "source": [
    "myText = open(\"test1.txt\",\"r\")\n",
    "print(myText.readline())"
   ]
  },
  {
   "cell_type": "code",
   "execution_count": 47,
   "id": "78c30469-d89b-4c40-802b-80705958d0a2",
   "metadata": {
    "tags": []
   },
   "outputs": [
    {
     "name": "stdout",
     "output_type": "stream",
     "text": [
      "['Hello World! This is Praveen\\n', 'Welcome to my world']\n"
     ]
    }
   ],
   "source": [
    "myText = open(\"test1.txt\",\"r\")\n",
    "print(myText.readlines())"
   ]
  },
  {
   "cell_type": "code",
   "execution_count": 53,
   "id": "9c3136c4-9b2c-40f4-8d48-d323a552b905",
   "metadata": {
    "tags": []
   },
   "outputs": [],
   "source": [
    "myText.close()\n",
    "myFile.close()"
   ]
  },
  {
   "cell_type": "code",
   "execution_count": 66,
   "id": "98ccdd4c-e8cc-4c6d-a70c-c35fa9b04984",
   "metadata": {
    "tags": []
   },
   "outputs": [],
   "source": [
    "## using below syntax, you don't need to close a file explicitly"
   ]
  },
  {
   "cell_type": "code",
   "execution_count": 62,
   "id": "aea9fbe5-1d8f-4fad-b53f-dc9b06ad64d6",
   "metadata": {
    "tags": []
   },
   "outputs": [
    {
     "name": "stdout",
     "output_type": "stream",
     "text": [
      "Hello World! This is Praveen\n",
      "Welcome to my world\n"
     ]
    }
   ],
   "source": [
    "with open(\"test1.txt\",\"r\") as f:\n",
    "    print(f.read())"
   ]
  },
  {
   "cell_type": "code",
   "execution_count": null,
   "id": "ce417718-8362-4148-aa21-217e7fcb1961",
   "metadata": {},
   "outputs": [],
   "source": []
  },
  {
   "cell_type": "code",
   "execution_count": 96,
   "id": "b05e99b4-65ab-45dd-a2b5-357383fefb4e",
   "metadata": {
    "tags": []
   },
   "outputs": [],
   "source": [
    "with open(\"test1.txt\",\"a\") as f:\n",
    "    f.write(\"\\nThis is Python Class in a new line\")"
   ]
  },
  {
   "cell_type": "code",
   "execution_count": 98,
   "id": "f5d8a775-d5e2-450f-97d8-cccaf55b6cc5",
   "metadata": {
    "tags": []
   },
   "outputs": [
    {
     "name": "stdout",
     "output_type": "stream",
     "text": [
      "Hello World! This is Praveen\n",
      "Welcome to my World!!\n",
      "This is Python Class\n",
      "This is Python Class in a new line\n"
     ]
    }
   ],
   "source": [
    "with open(\"test1.txt\",\"r\") as f:\n",
    "    print(f.read())"
   ]
  },
  {
   "cell_type": "code",
   "execution_count": null,
   "id": "6514692f-c786-46bb-9432-abb9d8350cb9",
   "metadata": {},
   "outputs": [],
   "source": []
  },
  {
   "cell_type": "code",
   "execution_count": 100,
   "id": "a8e78093-375c-41ee-b38e-384cc6f20e34",
   "metadata": {
    "tags": []
   },
   "outputs": [],
   "source": [
    "with open(\"test1.txt\",\"w\") as f:\n",
    "    f.write(\"How are you?\")"
   ]
  },
  {
   "cell_type": "code",
   "execution_count": 102,
   "id": "cb85acce-9c46-476a-9c3b-3d09c445bb5c",
   "metadata": {
    "tags": []
   },
   "outputs": [
    {
     "name": "stdout",
     "output_type": "stream",
     "text": [
      "How are you?\n"
     ]
    }
   ],
   "source": [
    "with open(\"test1.txt\",\"r\") as f:\n",
    "    print(f.read())"
   ]
  },
  {
   "cell_type": "code",
   "execution_count": 123,
   "id": "74c19fc2-07e1-4f60-b545-b8f76f3fe64f",
   "metadata": {
    "tags": []
   },
   "outputs": [
    {
     "ename": "FileExistsError",
     "evalue": "[Errno 17] File exists: 'data/test3.txt'",
     "output_type": "error",
     "traceback": [
      "\u001b[1;31m---------------------------------------------------------------------------\u001b[0m",
      "\u001b[1;31mFileExistsError\u001b[0m                           Traceback (most recent call last)",
      "Cell \u001b[1;32mIn[123], line 1\u001b[0m\n\u001b[1;32m----> 1\u001b[0m myFile \u001b[38;5;241m=\u001b[39m \u001b[38;5;28mopen\u001b[39m(\u001b[38;5;124m\"\u001b[39m\u001b[38;5;124mdata/test3.txt\u001b[39m\u001b[38;5;124m\"\u001b[39m,\u001b[38;5;124m\"\u001b[39m\u001b[38;5;124mx\u001b[39m\u001b[38;5;124m\"\u001b[39m)\n\u001b[0;32m      2\u001b[0m myFile \u001b[38;5;241m=\u001b[39m \u001b[38;5;28mopen\u001b[39m(\u001b[38;5;124m\"\u001b[39m\u001b[38;5;124mdata/test3.txt\u001b[39m\u001b[38;5;124m\"\u001b[39m,\u001b[38;5;124m\"\u001b[39m\u001b[38;5;124mr\u001b[39m\u001b[38;5;124m\"\u001b[39m)\n\u001b[0;32m      3\u001b[0m myFile\u001b[38;5;241m.\u001b[39mread()\n",
      "File \u001b[1;32m~\\anaconda3\\Lib\\site-packages\\IPython\\core\\interactiveshell.py:310\u001b[0m, in \u001b[0;36m_modified_open\u001b[1;34m(file, *args, **kwargs)\u001b[0m\n\u001b[0;32m    303\u001b[0m \u001b[38;5;28;01mif\u001b[39;00m file \u001b[38;5;129;01min\u001b[39;00m {\u001b[38;5;241m0\u001b[39m, \u001b[38;5;241m1\u001b[39m, \u001b[38;5;241m2\u001b[39m}:\n\u001b[0;32m    304\u001b[0m     \u001b[38;5;28;01mraise\u001b[39;00m \u001b[38;5;167;01mValueError\u001b[39;00m(\n\u001b[0;32m    305\u001b[0m         \u001b[38;5;124mf\u001b[39m\u001b[38;5;124m\"\u001b[39m\u001b[38;5;124mIPython won\u001b[39m\u001b[38;5;124m'\u001b[39m\u001b[38;5;124mt let you open fd=\u001b[39m\u001b[38;5;132;01m{\u001b[39;00mfile\u001b[38;5;132;01m}\u001b[39;00m\u001b[38;5;124m by default \u001b[39m\u001b[38;5;124m\"\u001b[39m\n\u001b[0;32m    306\u001b[0m         \u001b[38;5;124m\"\u001b[39m\u001b[38;5;124mas it is likely to crash IPython. If you know what you are doing, \u001b[39m\u001b[38;5;124m\"\u001b[39m\n\u001b[0;32m    307\u001b[0m         \u001b[38;5;124m\"\u001b[39m\u001b[38;5;124myou can use builtins\u001b[39m\u001b[38;5;124m'\u001b[39m\u001b[38;5;124m open.\u001b[39m\u001b[38;5;124m\"\u001b[39m\n\u001b[0;32m    308\u001b[0m     )\n\u001b[1;32m--> 310\u001b[0m \u001b[38;5;28;01mreturn\u001b[39;00m io_open(file, \u001b[38;5;241m*\u001b[39margs, \u001b[38;5;241m*\u001b[39m\u001b[38;5;241m*\u001b[39mkwargs)\n",
      "\u001b[1;31mFileExistsError\u001b[0m: [Errno 17] File exists: 'data/test3.txt'"
     ]
    }
   ],
   "source": [
    "myFile = open(\"data/test3.txt\",\"x\")"
   ]
  },
  {
   "cell_type": "code",
   "execution_count": 132,
   "id": "8e347e6c-d4f6-4816-adff-30094c640da2",
   "metadata": {
    "tags": []
   },
   "outputs": [],
   "source": [
    "myFile = open(\"data/test3.txt\",\"w\")\n",
    "myFile.write(\"Hello World\")\n",
    "\n",
    "myFile.close()"
   ]
  },
  {
   "cell_type": "code",
   "execution_count": 113,
   "id": "0a8cceea-f06a-4db6-ae28-0b219f3dd442",
   "metadata": {
    "tags": []
   },
   "outputs": [],
   "source": [
    "## deleting a file"
   ]
  },
  {
   "cell_type": "code",
   "execution_count": 115,
   "id": "f694fb18-e49a-4c6f-bf93-2f75723ffa12",
   "metadata": {
    "tags": []
   },
   "outputs": [],
   "source": [
    "import os"
   ]
  },
  {
   "cell_type": "code",
   "execution_count": 134,
   "id": "6f658fcf-a8b9-417f-aa14-40a66cfbd026",
   "metadata": {
    "tags": []
   },
   "outputs": [],
   "source": [
    "os.remove(\"data/test3.txt\")"
   ]
  },
  {
   "cell_type": "code",
   "execution_count": null,
   "id": "aaeff9dd-242b-4322-b101-3fa980fe78e0",
   "metadata": {},
   "outputs": [],
   "source": []
  },
  {
   "cell_type": "code",
   "execution_count": null,
   "id": "fcdb4c46-7817-45e9-858e-2352ff2f17bc",
   "metadata": {},
   "outputs": [],
   "source": []
  },
  {
   "cell_type": "code",
   "execution_count": null,
   "id": "2219481d-c3a9-4519-8dbc-b7ef378afd92",
   "metadata": {},
   "outputs": [],
   "source": []
  },
  {
   "cell_type": "code",
   "execution_count": null,
   "id": "51cdd11c-07f2-47f5-9b4f-68a22e418c4b",
   "metadata": {},
   "outputs": [],
   "source": []
  },
  {
   "cell_type": "code",
   "execution_count": null,
   "id": "f214b720-1195-4ade-9ab2-231dd5e49c54",
   "metadata": {},
   "outputs": [],
   "source": []
  },
  {
   "cell_type": "code",
   "execution_count": null,
   "id": "26272edb-aa9c-4148-bbde-0dcea1783fe1",
   "metadata": {},
   "outputs": [],
   "source": []
  },
  {
   "cell_type": "code",
   "execution_count": null,
   "id": "846b024b-a92c-4ab2-a665-224fcb3fa863",
   "metadata": {},
   "outputs": [],
   "source": []
  },
  {
   "cell_type": "code",
   "execution_count": null,
   "id": "ec1e0ed7-e146-4c2a-9f4c-76d9f9dfe20a",
   "metadata": {},
   "outputs": [],
   "source": []
  },
  {
   "cell_type": "code",
   "execution_count": null,
   "id": "dceec1a7-d99d-4554-bf74-d28aca4e9dad",
   "metadata": {},
   "outputs": [],
   "source": []
  },
  {
   "cell_type": "code",
   "execution_count": null,
   "id": "8a1f52d7-4b09-41bd-8719-00ec79e5783c",
   "metadata": {},
   "outputs": [],
   "source": []
  },
  {
   "cell_type": "code",
   "execution_count": null,
   "id": "9f0132e8-b3a6-4a56-8e8b-5aae4fdd0a6b",
   "metadata": {},
   "outputs": [],
   "source": []
  },
  {
   "cell_type": "code",
   "execution_count": null,
   "id": "2b16c3f0-563f-4d00-a9e0-f0b7b173fd2f",
   "metadata": {},
   "outputs": [],
   "source": []
  },
  {
   "cell_type": "code",
   "execution_count": null,
   "id": "9473d32a-b4e8-4c70-b034-aafd3dde8718",
   "metadata": {},
   "outputs": [],
   "source": []
  }
 ],
 "metadata": {
  "kernelspec": {
   "display_name": "Python 3 (ipykernel)",
   "language": "python",
   "name": "python3"
  },
  "language_info": {
   "codemirror_mode": {
    "name": "ipython",
    "version": 3
   },
   "file_extension": ".py",
   "mimetype": "text/x-python",
   "name": "python",
   "nbconvert_exporter": "python",
   "pygments_lexer": "ipython3",
   "version": "3.11.7"
  }
 },
 "nbformat": 4,
 "nbformat_minor": 5
}
