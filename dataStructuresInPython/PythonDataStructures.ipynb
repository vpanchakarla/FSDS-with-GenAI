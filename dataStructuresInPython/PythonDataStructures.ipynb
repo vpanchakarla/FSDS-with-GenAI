{
 "cells": [
  {
   "cell_type": "markdown",
   "id": "5af3edee-cda8-41ad-826f-3b4f0115f6f6",
   "metadata": {},
   "source": [
    "# Data Structures"
   ]
  },
  {
   "cell_type": "markdown",
   "id": "6d375f43-8f9f-4638-96bc-45393dd2f438",
   "metadata": {},
   "source": [
    "1) List/Array"
   ]
  },
  {
   "cell_type": "code",
   "execution_count": 5,
   "id": "2e3b93c8-e54f-4498-95ef-c0b350de494c",
   "metadata": {},
   "outputs": [
    {
     "name": "stdout",
     "output_type": "stream",
     "text": [
      "Praveen\n",
      "Sonika\n",
      "Lipsita\n",
      "Manju\n"
     ]
    }
   ],
   "source": [
    "class1 = [\"Praveen\",\"Sonika\",\"Lipsita\",\"Manju\"]\n",
    "for name in class1:\n",
    "    print(name)"
   ]
  },
  {
   "cell_type": "code",
   "execution_count": 27,
   "id": "31082523-72ce-43e5-96b1-aaed4f0606d9",
   "metadata": {},
   "outputs": [
    {
     "name": "stdout",
     "output_type": "stream",
     "text": [
      "Praveen\n",
      "Sonika\n",
      "Lipsita\n",
      "Manju\n"
     ]
    }
   ],
   "source": [
    "class1 = [\"Praveen\",\"Sonika\",\"Lipsita\",\"Manju\"]\n",
    "totalStudents = len(class1)\n",
    "student = 0\n",
    "while(student < totalStudents):\n",
    "    print(class1[student])\n",
    "    student+=1"
   ]
  },
  {
   "cell_type": "code",
   "execution_count": 10,
   "id": "fa7401e8-3c8e-4ad2-8bfe-6fcd304a169b",
   "metadata": {},
   "outputs": [
    {
     "name": "stdout",
     "output_type": "stream",
     "text": [
      "[1, 2, 3, 4, 5]\n"
     ]
    }
   ],
   "source": [
    "list1=[1,2,3,4,5]\n",
    "print(list1)"
   ]
  },
  {
   "cell_type": "code",
   "execution_count": 11,
   "id": "fe961fb0-09e5-4ecc-9a4e-16042de80b52",
   "metadata": {},
   "outputs": [
    {
     "data": {
      "text/plain": [
       "list"
      ]
     },
     "execution_count": 11,
     "metadata": {},
     "output_type": "execute_result"
    }
   ],
   "source": [
    "type(list1)"
   ]
  },
  {
   "cell_type": "code",
   "execution_count": 12,
   "id": "b5d1f008-a327-4265-b0a5-bc627592b7d5",
   "metadata": {},
   "outputs": [
    {
     "name": "stdout",
     "output_type": "stream",
     "text": [
      "2\n"
     ]
    }
   ],
   "source": [
    "a = 2\n",
    "print(a)"
   ]
  },
  {
   "cell_type": "code",
   "execution_count": 13,
   "id": "ea7c41fc-b305-4b74-aad8-a60104770f94",
   "metadata": {},
   "outputs": [
    {
     "data": {
      "text/plain": [
       "int"
      ]
     },
     "execution_count": 13,
     "metadata": {},
     "output_type": "execute_result"
    }
   ],
   "source": [
    "type(a)"
   ]
  },
  {
   "cell_type": "code",
   "execution_count": 14,
   "id": "eb213d07-eeaf-4555-9b2d-74bf296c3eda",
   "metadata": {},
   "outputs": [
    {
     "name": "stdout",
     "output_type": "stream",
     "text": [
      "Praveen\n"
     ]
    },
    {
     "data": {
      "text/plain": [
       "str"
      ]
     },
     "execution_count": 14,
     "metadata": {},
     "output_type": "execute_result"
    }
   ],
   "source": [
    "name = \"Praveen\"\n",
    "print(name)\n",
    "type(name)"
   ]
  },
  {
   "cell_type": "code",
   "execution_count": 15,
   "id": "285c4533-3261-48aa-afb4-436d6a7749d0",
   "metadata": {},
   "outputs": [
    {
     "name": "stdout",
     "output_type": "stream",
     "text": [
      "['Praveen', 'Manju', 'Lipsita', 'Sonika']\n"
     ]
    },
    {
     "data": {
      "text/plain": [
       "list"
      ]
     },
     "execution_count": 15,
     "metadata": {},
     "output_type": "execute_result"
    }
   ],
   "source": [
    "list2 = [\"Praveen\",\"Manju\",\"Lipsita\",\"Sonika\"]\n",
    "print(list2)\n",
    "type(list2)"
   ]
  },
  {
   "cell_type": "code",
   "execution_count": 16,
   "id": "94fe1828-f3f7-47b1-8f20-d28c5a8c319f",
   "metadata": {},
   "outputs": [
    {
     "name": "stdout",
     "output_type": "stream",
     "text": [
      "['Praveen', 1, 9.9, True]\n"
     ]
    },
    {
     "data": {
      "text/plain": [
       "list"
      ]
     },
     "execution_count": 16,
     "metadata": {},
     "output_type": "execute_result"
    }
   ],
   "source": [
    "mixList = [\"Praveen\",1,9.9,True]\n",
    "print(mixList)\n",
    "type(mixList)"
   ]
  },
  {
   "cell_type": "markdown",
   "id": "2e272a15-879b-4e4f-96b0-a8243563077a",
   "metadata": {},
   "source": [
    "List Index"
   ]
  },
  {
   "cell_type": "code",
   "execution_count": 20,
   "id": "c0713aa9-ef35-41ed-8ca8-87ab9070451a",
   "metadata": {},
   "outputs": [
    {
     "name": "stdout",
     "output_type": "stream",
     "text": [
      "['Red', 'Green', 'Blue', 'Yellow']\n",
      "4\n"
     ]
    }
   ],
   "source": [
    "color = ['Red',\"Green\",'Blue',\"Yellow\"]\n",
    "print(color)\n",
    "print(len(color))"
   ]
  },
  {
   "cell_type": "code",
   "execution_count": 26,
   "id": "45459446-4922-43f8-b923-a681072a04c4",
   "metadata": {},
   "outputs": [
    {
     "name": "stdout",
     "output_type": "stream",
     "text": [
      "Red\n"
     ]
    }
   ],
   "source": [
    "print(color[0])"
   ]
  },
  {
   "cell_type": "code",
   "execution_count": 25,
   "id": "24abaf14-86de-440c-b7d9-f3a98cde8aac",
   "metadata": {},
   "outputs": [
    {
     "name": "stdout",
     "output_type": "stream",
     "text": [
      "Red\n"
     ]
    }
   ],
   "source": [
    "red_color = color[0]\n",
    "print(red_color)"
   ]
  },
  {
   "cell_type": "code",
   "execution_count": 28,
   "id": "371bd319-cc51-4424-a1d9-9ccd05f4f1f9",
   "metadata": {},
   "outputs": [
    {
     "name": "stdout",
     "output_type": "stream",
     "text": [
      "Sonika\n"
     ]
    }
   ],
   "source": [
    "list2 = [\"Praveen\",\"Manju\",\"Lipsita\",\"Sonika\"]\n",
    "print(list2[-1])"
   ]
  },
  {
   "cell_type": "code",
   "execution_count": 30,
   "id": "edfeec6d-e82a-4ace-9b35-740061acb5a4",
   "metadata": {},
   "outputs": [
    {
     "name": "stdout",
     "output_type": "stream",
     "text": [
      "Praveen\n"
     ]
    }
   ],
   "source": [
    "print(list2[-4])"
   ]
  },
  {
   "cell_type": "code",
   "execution_count": 33,
   "id": "5d411974-1d0c-4409-a33d-f09a6cbcbfce",
   "metadata": {},
   "outputs": [
    {
     "name": "stdout",
     "output_type": "stream",
     "text": [
      "Lipsita\n"
     ]
    }
   ],
   "source": [
    "print(list2[len(list2)-2])"
   ]
  },
  {
   "cell_type": "code",
   "execution_count": 35,
   "id": "51f1c746-e0b2-4bdc-9c97-489cf8a0dea5",
   "metadata": {},
   "outputs": [
    {
     "name": "stdout",
     "output_type": "stream",
     "text": [
      "Manju\n"
     ]
    }
   ],
   "source": [
    "print(list2[len(list2)-3])"
   ]
  },
  {
   "cell_type": "code",
   "execution_count": 36,
   "id": "eca9ca1f-1728-4966-8307-eaa2eee4a49b",
   "metadata": {},
   "outputs": [],
   "source": [
    "color = ['Red',\"Green\",'Blue',\"Yellow\",\"Gray\"]"
   ]
  },
  {
   "cell_type": "code",
   "execution_count": 38,
   "id": "18f830c6-aade-4b6f-999f-9e19809979f9",
   "metadata": {},
   "outputs": [
    {
     "name": "stdout",
     "output_type": "stream",
     "text": [
      "Yes\n"
     ]
    }
   ],
   "source": [
    "if \"Red\" in color:\n",
    "    print('Yes')\n",
    "else:\n",
    "    print('No')"
   ]
  },
  {
   "cell_type": "code",
   "execution_count": 39,
   "id": "f2136604-9861-4097-8df7-3c520937615e",
   "metadata": {},
   "outputs": [
    {
     "name": "stdout",
     "output_type": "stream",
     "text": [
      "Red\n",
      "Green\n",
      "Blue\n",
      "Yellow\n",
      "Gray\n"
     ]
    }
   ],
   "source": [
    "for i in color:\n",
    "    print(i)"
   ]
  },
  {
   "cell_type": "code",
   "execution_count": 40,
   "id": "bd10b671-ead3-4ce9-9d17-dda81fa33631",
   "metadata": {},
   "outputs": [
    {
     "name": "stdout",
     "output_type": "stream",
     "text": [
      "0\n",
      "1\n",
      "2\n",
      "3\n",
      "4\n"
     ]
    }
   ],
   "source": [
    "for i in range(len(color)):\n",
    "    print(i)"
   ]
  },
  {
   "cell_type": "code",
   "execution_count": 42,
   "id": "369356c1-bd10-4417-9628-faa4e794e4c8",
   "metadata": {},
   "outputs": [
    {
     "data": {
      "text/plain": [
       "range(0, 5)"
      ]
     },
     "execution_count": 42,
     "metadata": {},
     "output_type": "execute_result"
    }
   ],
   "source": [
    "range(len(color))"
   ]
  },
  {
   "cell_type": "code",
   "execution_count": 43,
   "id": "af14f47a-887e-4d9a-a37e-4ccb69dd94fe",
   "metadata": {},
   "outputs": [
    {
     "name": "stdout",
     "output_type": "stream",
     "text": [
      "0 Red\n",
      "1 Green\n",
      "2 Blue\n",
      "3 Yellow\n",
      "4 Gray\n"
     ]
    }
   ],
   "source": [
    "for i in range(len(color)):\n",
    "    print(i,color[i])"
   ]
  },
  {
   "cell_type": "markdown",
   "id": "6b35a442-b4f3-4e56-8932-431d35002007",
   "metadata": {},
   "source": [
    "### Range of Index"
   ]
  },
  {
   "cell_type": "code",
   "execution_count": 48,
   "id": "6c7d3438-0d8e-42e5-a233-ebf4429121ad",
   "metadata": {},
   "outputs": [
    {
     "data": {
      "text/plain": [
       "['Red', 'Green', 'Blue']"
      ]
     },
     "execution_count": 48,
     "metadata": {},
     "output_type": "execute_result"
    }
   ],
   "source": [
    "color = ['Red',\"Green\",'Blue',\"Yellow\",\"Gray\"]\n",
    "color\n",
    "color[0:3]"
   ]
  },
  {
   "cell_type": "code",
   "execution_count": 47,
   "id": "fe70e06f-16cc-474c-b160-e23eeef176cb",
   "metadata": {},
   "outputs": [
    {
     "name": "stdout",
     "output_type": "stream",
     "text": [
      "0 Red\n",
      "1 Green\n",
      "2 Blue\n"
     ]
    }
   ],
   "source": [
    "for i in range(len(color)-2):\n",
    "    print(i,color[i])"
   ]
  },
  {
   "cell_type": "code",
   "execution_count": 51,
   "id": "103701cf-aa27-404d-9237-6ea0b23de845",
   "metadata": {},
   "outputs": [
    {
     "data": {
      "text/plain": [
       "['Red', 'Green', 'Blue']"
      ]
     },
     "execution_count": 51,
     "metadata": {},
     "output_type": "execute_result"
    }
   ],
   "source": [
    "color[0:3:1]"
   ]
  },
  {
   "cell_type": "code",
   "execution_count": 49,
   "id": "3de09aa3-8dd2-4e35-b6ad-bec7ae651e3f",
   "metadata": {},
   "outputs": [
    {
     "data": {
      "text/plain": [
       "['Red', 'Blue']"
      ]
     },
     "execution_count": 49,
     "metadata": {},
     "output_type": "execute_result"
    }
   ],
   "source": [
    "color[0:3:2]"
   ]
  },
  {
   "cell_type": "code",
   "execution_count": 50,
   "id": "e0a62c69-261a-47dc-82bc-7bc34671e8ad",
   "metadata": {},
   "outputs": [
    {
     "data": {
      "text/plain": [
       "['Red']"
      ]
     },
     "execution_count": 50,
     "metadata": {},
     "output_type": "execute_result"
    }
   ],
   "source": [
    "color[0:3:3]"
   ]
  },
  {
   "cell_type": "code",
   "execution_count": 52,
   "id": "483e1d1d-b845-4ad1-ba6e-faa749a583ee",
   "metadata": {},
   "outputs": [
    {
     "data": {
      "text/plain": [
       "['Red', 'Green', 'Blue', 'Yellow', 'Gray']"
      ]
     },
     "execution_count": 52,
     "metadata": {},
     "output_type": "execute_result"
    }
   ],
   "source": [
    "color[:]"
   ]
  },
  {
   "cell_type": "code",
   "execution_count": 54,
   "id": "343965ec-ca1e-4ed4-9223-509568974a5e",
   "metadata": {},
   "outputs": [
    {
     "data": {
      "text/plain": [
       "['Gray', 'Yellow', 'Blue', 'Green', 'Red']"
      ]
     },
     "execution_count": 54,
     "metadata": {},
     "output_type": "execute_result"
    }
   ],
   "source": [
    "color[::-1]"
   ]
  },
  {
   "cell_type": "code",
   "execution_count": 55,
   "id": "5767bfaf-2766-4ece-a2c4-7e470cb792ec",
   "metadata": {},
   "outputs": [
    {
     "data": {
      "text/plain": [
       "['Red', 'Blue', 'Gray']"
      ]
     },
     "execution_count": 55,
     "metadata": {},
     "output_type": "execute_result"
    }
   ],
   "source": [
    "color[0:len(color):2]"
   ]
  },
  {
   "cell_type": "code",
   "execution_count": 57,
   "id": "0bf6bc64-f9d9-4ab2-9912-e4640324df01",
   "metadata": {},
   "outputs": [
    {
     "name": "stdout",
     "output_type": "stream",
     "text": [
      "1 is an Odd Number\n",
      "2 is an Even Number\n",
      "3 is an Odd Number\n",
      "4 is an Even Number\n",
      "5 is an Odd Number\n",
      "6 is an Even Number\n",
      "7 is an Odd Number\n",
      "8 is an Even Number\n",
      "9 is an Odd Number\n",
      "10 is an Even Number\n"
     ]
    }
   ],
   "source": [
    "num = [1,2,3,4,5,6,7,8,9,10]\n",
    "\n",
    "for i in num:\n",
    "    if(i%2 == 0):\n",
    "        print(i,\"is an Even Number\")\n",
    "    else:\n",
    "        print(i, \"is an Odd Number\")"
   ]
  },
  {
   "cell_type": "code",
   "execution_count": 58,
   "id": "5379b3ee-9a57-476e-9f46-1d3905ff2a91",
   "metadata": {},
   "outputs": [
    {
     "name": "stdout",
     "output_type": "stream",
     "text": [
      "[1, 2, 3, 4, 5, 6, 7, 8, 9, 10]\n"
     ]
    }
   ],
   "source": [
    "num = [1,2,3,4,5,6,7,8,9,10]\n",
    "print(num)"
   ]
  },
  {
   "cell_type": "code",
   "execution_count": 59,
   "id": "afae41ec-438c-407a-999f-4f3c7137f62b",
   "metadata": {},
   "outputs": [
    {
     "name": "stdout",
     "output_type": "stream",
     "text": [
      "[1, 2, 3, 4, 5, 6, 7, 8, 9, 20]\n"
     ]
    }
   ],
   "source": [
    "num[9]=20\n",
    "print(num)"
   ]
  },
  {
   "cell_type": "code",
   "execution_count": 60,
   "id": "df454133-12f2-4de9-a5f9-1e95638bf786",
   "metadata": {},
   "outputs": [
    {
     "name": "stdout",
     "output_type": "stream",
     "text": [
      "['Red', 'Green', 'Blue', 'Yellow', 'Gray']\n"
     ]
    }
   ],
   "source": [
    "color = ['Red',\"Green\",'Blue',\"Yellow\",\"Gray\"]\n",
    "print(color)"
   ]
  },
  {
   "cell_type": "code",
   "execution_count": 61,
   "id": "b169a49a-1d83-4b87-893e-cd418ab45b91",
   "metadata": {},
   "outputs": [
    {
     "name": "stdout",
     "output_type": "stream",
     "text": [
      "['Red', 'Green', 'Blue', 'Yellow', 'White']\n"
     ]
    }
   ],
   "source": [
    "color[4]=\"White\"\n",
    "print(color)"
   ]
  },
  {
   "cell_type": "code",
   "execution_count": 63,
   "id": "5c27f288-7821-4e6e-a155-797d9d009189",
   "metadata": {},
   "outputs": [
    {
     "name": "stdout",
     "output_type": "stream",
     "text": [
      "2\n"
     ]
    }
   ],
   "source": [
    "output= num[0] * num[1]\n",
    "print(output)"
   ]
  },
  {
   "cell_type": "code",
   "execution_count": 64,
   "id": "9ef791c9-3ad0-460f-8b46-1b7d91e075a7",
   "metadata": {},
   "outputs": [
    {
     "name": "stdout",
     "output_type": "stream",
     "text": [
      "6\n"
     ]
    }
   ],
   "source": [
    "output= num[1] * num[2]\n",
    "print(output)"
   ]
  },
  {
   "cell_type": "code",
   "execution_count": 66,
   "id": "31c3f126-f6fc-4eb2-876a-e22f58c0e8c8",
   "metadata": {},
   "outputs": [
    {
     "name": "stdout",
     "output_type": "stream",
     "text": [
      "RedGreen\n"
     ]
    }
   ],
   "source": [
    "mixColor = color[0] + color[1]\n",
    "print(mixColor)"
   ]
  },
  {
   "cell_type": "markdown",
   "id": "f8113b61-a94c-430f-912c-b09202222913",
   "metadata": {},
   "source": [
    "## List Comprehension"
   ]
  },
  {
   "cell_type": "code",
   "execution_count": 67,
   "id": "32e66bc2-c75b-43f9-b5e9-c2a6d17084cb",
   "metadata": {},
   "outputs": [
    {
     "data": {
      "text/plain": [
       "[1, 2, 3, 4, 5, 6, 7, 8, 9]"
      ]
     },
     "execution_count": 67,
     "metadata": {},
     "output_type": "execute_result"
    }
   ],
   "source": [
    "lst = [1,2,3,4,5,6,7,8,9]\n",
    "lst"
   ]
  },
  {
   "cell_type": "code",
   "execution_count": 69,
   "id": "c8ab708c-7123-4156-823e-bec7c2150881",
   "metadata": {},
   "outputs": [
    {
     "data": {
      "text/plain": [
       "[0, 1, 2, 3, 4, 5, 6, 7, 8, 9]"
      ]
     },
     "execution_count": 69,
     "metadata": {},
     "output_type": "execute_result"
    }
   ],
   "source": [
    "list1 = [i for i in range(10)]\n",
    "list1"
   ]
  },
  {
   "cell_type": "code",
   "execution_count": 73,
   "id": "46ebce95-1b95-46a7-bdff-c6df61ad1660",
   "metadata": {},
   "outputs": [
    {
     "name": "stdout",
     "output_type": "stream",
     "text": [
      "['Praveen', 'Manju', 'Lipsita', 'Sonika']\n"
     ]
    }
   ],
   "source": [
    "names = [name for name in [\"Praveen\",\"Manju\",\"Lipsita\",\"Sonika\"]]\n",
    "print(names)                "
   ]
  },
  {
   "cell_type": "code",
   "execution_count": 79,
   "id": "55c5007b-6926-4e49-a32c-579ea94e4972",
   "metadata": {},
   "outputs": [
    {
     "data": {
      "text/plain": [
       "[0, 2, 4, 6, 8]"
      ]
     },
     "execution_count": 79,
     "metadata": {},
     "output_type": "execute_result"
    }
   ],
   "source": [
    "list1 = [i for i in range(10) if i%2 == 0]\n",
    "list1"
   ]
  },
  {
   "cell_type": "code",
   "execution_count": 80,
   "id": "bf0b7556-d14c-45e5-9727-681aa49db829",
   "metadata": {},
   "outputs": [
    {
     "data": {
      "text/plain": [
       "[1, 3, 5, 7, 9]"
      ]
     },
     "execution_count": 80,
     "metadata": {},
     "output_type": "execute_result"
    }
   ],
   "source": [
    "list2 = [i for i in range(10) if i%2 != 0]\n",
    "list2"
   ]
  },
  {
   "cell_type": "code",
   "execution_count": 78,
   "id": "d8e5ad31-b556-4b7a-81f0-c8fa82d70a72",
   "metadata": {},
   "outputs": [
    {
     "data": {
      "text/plain": [
       "['Even', 'Odd', 'Even', 'Odd', 'Even', 'Odd', 'Even', 'Odd', 'Even', 'Odd']"
      ]
     },
     "execution_count": 78,
     "metadata": {},
     "output_type": "execute_result"
    }
   ],
   "source": [
    "list3 = [\"Even\" if i%2 == 0 else \"Odd\" for i in range(10)]\n",
    "list3"
   ]
  },
  {
   "cell_type": "markdown",
   "id": "53051266-489b-4473-8df7-08f05856fb95",
   "metadata": {},
   "source": [
    "## 27-Apr-2024 - List Methods"
   ]
  },
  {
   "cell_type": "markdown",
   "id": "3985e150-15b6-4072-9f16-742460f634b8",
   "metadata": {
    "tags": []
   },
   "source": [
    "## Agenda for today\n",
    "1) List Method (append,clear,copy,count,extend,index,insert,pop,remove,reverse,sort)\n",
    "2) Tuples"
   ]
  },
  {
   "cell_type": "markdown",
   "id": "baebe0ef-cd0f-48ff-878b-51c7192b822b",
   "metadata": {},
   "source": [
    "## append()\n",
    "Adds an element at the end of the list"
   ]
  },
  {
   "cell_type": "code",
   "execution_count": 25,
   "id": "ebce02e3-fe5f-4ab9-95f5-9c398bded5ee",
   "metadata": {
    "tags": []
   },
   "outputs": [],
   "source": [
    "fruits = ['Apple','Banana','Mango','Orange']"
   ]
  },
  {
   "cell_type": "code",
   "execution_count": 27,
   "id": "d1872ea2-e74a-4f41-8cbb-35012358cf87",
   "metadata": {
    "tags": []
   },
   "outputs": [],
   "source": [
    "fruits.append('Guava')"
   ]
  },
  {
   "cell_type": "code",
   "execution_count": 29,
   "id": "7ff07d35-150f-40db-acfa-653641ac191b",
   "metadata": {
    "tags": []
   },
   "outputs": [
    {
     "data": {
      "text/plain": [
       "['Apple', 'Banana', 'Mango', 'Orange', 'Guava']"
      ]
     },
     "execution_count": 29,
     "metadata": {},
     "output_type": "execute_result"
    }
   ],
   "source": [
    "fruits"
   ]
  },
  {
   "cell_type": "code",
   "execution_count": 31,
   "id": "dfcdcc90-a617-4c12-af24-b92491c152bf",
   "metadata": {},
   "outputs": [],
   "source": [
    "fruits.append('Cherry')\n",
    "fruits.append('Kiwi')"
   ]
  },
  {
   "cell_type": "code",
   "execution_count": 33,
   "id": "7ada7219-29c8-4e78-8633-b40c73f52fa6",
   "metadata": {},
   "outputs": [
    {
     "data": {
      "text/plain": [
       "['Apple', 'Banana', 'Mango', 'Orange', 'Guava', 'Cherry', 'Kiwi']"
      ]
     },
     "execution_count": 33,
     "metadata": {},
     "output_type": "execute_result"
    }
   ],
   "source": [
    "fruits"
   ]
  },
  {
   "cell_type": "markdown",
   "id": "4144fbf1-96a6-4984-8b1d-795f0c521d33",
   "metadata": {},
   "source": [
    "## clear ()\n",
    "Removes all the elements from a list"
   ]
  },
  {
   "cell_type": "code",
   "execution_count": 36,
   "id": "5289beef-117e-4f35-b2dd-b599524205c7",
   "metadata": {},
   "outputs": [],
   "source": [
    "fruits = ['Apple','Banana','Mango','Orange']"
   ]
  },
  {
   "cell_type": "code",
   "execution_count": 40,
   "id": "2ca31660-549c-4a5d-b67a-554ee1e60506",
   "metadata": {},
   "outputs": [],
   "source": [
    "fruits.clear()"
   ]
  },
  {
   "cell_type": "code",
   "execution_count": 42,
   "id": "031957ba-5e7a-4325-a1ce-4da5b5e94778",
   "metadata": {},
   "outputs": [
    {
     "data": {
      "text/plain": [
       "[]"
      ]
     },
     "execution_count": 42,
     "metadata": {},
     "output_type": "execute_result"
    }
   ],
   "source": [
    "fruits"
   ]
  },
  {
   "cell_type": "markdown",
   "id": "c8964b98-c1e9-4c6f-a4bb-9b740b5c4744",
   "metadata": {},
   "source": [
    "## copy()\n",
    "Return a copy of the list"
   ]
  },
  {
   "cell_type": "code",
   "execution_count": 46,
   "id": "7fab8f64-dc54-4e06-b085-c1d67550fb7c",
   "metadata": {},
   "outputs": [],
   "source": [
    "fruits = ['Apple','Banana','Mango','Orange']"
   ]
  },
  {
   "cell_type": "code",
   "execution_count": 48,
   "id": "6c9ab14d-93e2-4135-8978-21c2d72597d6",
   "metadata": {
    "tags": []
   },
   "outputs": [],
   "source": [
    "tempFruits = fruits.copy()"
   ]
  },
  {
   "cell_type": "code",
   "execution_count": 50,
   "id": "f1c1dd66-c941-4fef-881d-496a711c01d1",
   "metadata": {
    "tags": []
   },
   "outputs": [
    {
     "data": {
      "text/plain": [
       "['Apple', 'Banana', 'Mango', 'Orange']"
      ]
     },
     "execution_count": 50,
     "metadata": {},
     "output_type": "execute_result"
    }
   ],
   "source": [
    "tempFruits"
   ]
  },
  {
   "cell_type": "code",
   "execution_count": 52,
   "id": "2f833d19-4828-432f-8d3b-d76178d931de",
   "metadata": {
    "tags": []
   },
   "outputs": [],
   "source": [
    "tempFruits[0]='Avocado'"
   ]
  },
  {
   "cell_type": "code",
   "execution_count": 54,
   "id": "1f493b16-171e-4d1b-9d68-998df7513a47",
   "metadata": {
    "tags": []
   },
   "outputs": [
    {
     "data": {
      "text/plain": [
       "['Avocado', 'Banana', 'Mango', 'Orange']"
      ]
     },
     "execution_count": 54,
     "metadata": {},
     "output_type": "execute_result"
    }
   ],
   "source": [
    "tempFruits"
   ]
  },
  {
   "cell_type": "code",
   "execution_count": 56,
   "id": "bf761d45-d445-4b9d-ba7d-086b1db753cb",
   "metadata": {
    "tags": []
   },
   "outputs": [
    {
     "data": {
      "text/plain": [
       "['Apple', 'Banana', 'Mango', 'Orange']"
      ]
     },
     "execution_count": 56,
     "metadata": {},
     "output_type": "execute_result"
    }
   ],
   "source": [
    "fruits"
   ]
  },
  {
   "cell_type": "markdown",
   "id": "6fe99822-e1f7-450a-916b-47d0cfc1efb6",
   "metadata": {},
   "source": [
    "## count()\n",
    "Returns the number of elements with the specified value"
   ]
  },
  {
   "cell_type": "code",
   "execution_count": null,
   "id": "d58e861e-c435-4b71-8287-623a23370e58",
   "metadata": {},
   "outputs": [],
   "source": [
    "fruits = ['Apple','Banana','Mango','Orange']"
   ]
  },
  {
   "cell_type": "code",
   "execution_count": 60,
   "id": "cf1cba5b-fb41-47ca-9cfc-265e3886d625",
   "metadata": {
    "tags": []
   },
   "outputs": [
    {
     "data": {
      "text/plain": [
       "1"
      ]
     },
     "execution_count": 60,
     "metadata": {},
     "output_type": "execute_result"
    }
   ],
   "source": [
    "fruits.count('Apple')"
   ]
  },
  {
   "cell_type": "code",
   "execution_count": 62,
   "id": "4eb1cff0-72b2-4594-afcf-71e0e387b7a3",
   "metadata": {
    "tags": []
   },
   "outputs": [],
   "source": [
    "fruits.append('Apple')"
   ]
  },
  {
   "cell_type": "code",
   "execution_count": 64,
   "id": "8f5bda9a-be7d-4f4f-a840-d14a8a31ffd7",
   "metadata": {
    "tags": []
   },
   "outputs": [
    {
     "data": {
      "text/plain": [
       "2"
      ]
     },
     "execution_count": 64,
     "metadata": {},
     "output_type": "execute_result"
    }
   ],
   "source": [
    "fruits.count('Apple')"
   ]
  },
  {
   "cell_type": "code",
   "execution_count": 66,
   "id": "e5601a6b-ef17-469a-a58b-4635545ec86b",
   "metadata": {
    "tags": []
   },
   "outputs": [
    {
     "data": {
      "text/plain": [
       "['Apple', 'Banana', 'Mango', 'Orange', 'Apple']"
      ]
     },
     "execution_count": 66,
     "metadata": {},
     "output_type": "execute_result"
    }
   ],
   "source": [
    "fruits"
   ]
  },
  {
   "cell_type": "code",
   "execution_count": 74,
   "id": "873a37c2-23a0-4665-b457-aa759ea35dac",
   "metadata": {
    "tags": []
   },
   "outputs": [
    {
     "name": "stdout",
     "output_type": "stream",
     "text": [
      "praveen\n"
     ]
    }
   ],
   "source": [
    "a = \"Praveen\"\n",
    "b = \"praveen\"\n",
    "print(a.lower())"
   ]
  },
  {
   "cell_type": "code",
   "execution_count": 76,
   "id": "d2f9f309-015d-405b-9963-2785379c5161",
   "metadata": {
    "tags": []
   },
   "outputs": [
    {
     "name": "stdout",
     "output_type": "stream",
     "text": [
      "apple\n",
      "banana\n",
      "mango\n",
      "orange\n",
      "apple\n"
     ]
    }
   ],
   "source": [
    "for i in fruits:\n",
    "    print(i.lower())"
   ]
  },
  {
   "cell_type": "code",
   "execution_count": 78,
   "id": "82e710af-2dc2-47d8-ac60-cdebfb93268b",
   "metadata": {
    "tags": []
   },
   "outputs": [
    {
     "name": "stdout",
     "output_type": "stream",
     "text": [
      "APPLE\n",
      "BANANA\n",
      "MANGO\n",
      "ORANGE\n",
      "APPLE\n"
     ]
    }
   ],
   "source": [
    "for i in fruits:\n",
    "    print(i.upper())"
   ]
  },
  {
   "cell_type": "markdown",
   "id": "3aec14a5-7279-48fc-aa1a-add8fcf69cbe",
   "metadata": {},
   "source": [
    "## extend()\n",
    "Adds the elements of a list (or any iterable) to the end of current list"
   ]
  },
  {
   "cell_type": "code",
   "execution_count": 86,
   "id": "7d73e339-8f92-4b39-a988-862f45050802",
   "metadata": {
    "tags": []
   },
   "outputs": [],
   "source": [
    "fruits = ['Apple','Banana','Mango','Orange']\n",
    "cars = ['Mercedes','BMW','Audi','Jaguar','Range Rover']"
   ]
  },
  {
   "cell_type": "code",
   "execution_count": 88,
   "id": "c96b3c75-eb2f-4453-a68e-e2417997470e",
   "metadata": {
    "tags": []
   },
   "outputs": [],
   "source": [
    "fruits.extend(cars)"
   ]
  },
  {
   "cell_type": "code",
   "execution_count": 90,
   "id": "5c67f069-8a67-4729-bd65-5400dfabbd43",
   "metadata": {
    "tags": []
   },
   "outputs": [
    {
     "data": {
      "text/plain": [
       "['Apple',\n",
       " 'Banana',\n",
       " 'Mango',\n",
       " 'Orange',\n",
       " 'Mercedes',\n",
       " 'BMW',\n",
       " 'Audi',\n",
       " 'Jaguar',\n",
       " 'Range Rover']"
      ]
     },
     "execution_count": 90,
     "metadata": {},
     "output_type": "execute_result"
    }
   ],
   "source": [
    "fruits"
   ]
  },
  {
   "cell_type": "code",
   "execution_count": 93,
   "id": "7f09f657-27e3-4e64-b5d3-4c14c85c1fa2",
   "metadata": {
    "tags": []
   },
   "outputs": [
    {
     "name": "stdout",
     "output_type": "stream",
     "text": [
      "['Apple', 'Banana', 'Mango', 'Orange', 'Mercedes', 'BMW', 'Audi', 'Jaguar', 'Range Rover']\n"
     ]
    }
   ],
   "source": [
    "print(fruits)"
   ]
  },
  {
   "cell_type": "code",
   "execution_count": 95,
   "id": "e23c5ec3-f8d3-4f54-bdcc-c561ee95abbb",
   "metadata": {
    "tags": []
   },
   "outputs": [],
   "source": [
    "flowers = ['Rose','MaryGold','Lilly']"
   ]
  },
  {
   "cell_type": "code",
   "execution_count": 99,
   "id": "77f8bb24-a33e-40ee-b5c0-558e6422da9a",
   "metadata": {
    "tags": []
   },
   "outputs": [],
   "source": [
    "fruits.extend(flowers)"
   ]
  },
  {
   "cell_type": "code",
   "execution_count": 101,
   "id": "49b26091-e713-47ad-ad82-92f5c3d9139f",
   "metadata": {
    "tags": []
   },
   "outputs": [
    {
     "data": {
      "text/plain": [
       "['Apple',\n",
       " 'Banana',\n",
       " 'Mango',\n",
       " 'Orange',\n",
       " 'Mercedes',\n",
       " 'BMW',\n",
       " 'Audi',\n",
       " 'Jaguar',\n",
       " 'Range Rover',\n",
       " 'Rose',\n",
       " 'MaryGold',\n",
       " 'Lilly']"
      ]
     },
     "execution_count": 101,
     "metadata": {},
     "output_type": "execute_result"
    }
   ],
   "source": [
    "fruits"
   ]
  },
  {
   "cell_type": "code",
   "execution_count": 103,
   "id": "e30475e9-5a79-4c31-952a-c6b74931fa04",
   "metadata": {
    "tags": []
   },
   "outputs": [
    {
     "data": {
      "text/plain": [
       "[1, 2, 3, 4, 5, 6]"
      ]
     },
     "execution_count": 103,
     "metadata": {},
     "output_type": "execute_result"
    }
   ],
   "source": [
    "num1=[1,2,3]\n",
    "num2=[4,5,6]\n",
    "num1+num2"
   ]
  },
  {
   "cell_type": "markdown",
   "id": "b87719ba-75dd-454e-919f-81e1a72547f9",
   "metadata": {},
   "source": [
    "## index()\n",
    "The index() method returns the position at the firstoccurrence of the specified value."
   ]
  },
  {
   "cell_type": "code",
   "execution_count": 132,
   "id": "bb26b17b-fb41-4438-8717-76cf440ed773",
   "metadata": {
    "tags": []
   },
   "outputs": [],
   "source": [
    "cars = ['Mercedes','BMW','Audi','Jaguar','Range Rover','BMW']"
   ]
  },
  {
   "cell_type": "code",
   "execution_count": 134,
   "id": "602a6e6e-63b7-466a-9c43-07d7ab287710",
   "metadata": {
    "tags": []
   },
   "outputs": [
    {
     "data": {
      "text/plain": [
       "2"
      ]
     },
     "execution_count": 134,
     "metadata": {},
     "output_type": "execute_result"
    }
   ],
   "source": [
    "cars.index('Audi')"
   ]
  },
  {
   "cell_type": "code",
   "execution_count": 148,
   "id": "259b0a4a-1889-49de-b394-795191541f6d",
   "metadata": {
    "tags": []
   },
   "outputs": [
    {
     "name": "stdout",
     "output_type": "stream",
     "text": [
      "BMW:1\n",
      "BMW:5\n"
     ]
    }
   ],
   "source": [
    "for i in range(len(cars)):\n",
    "    if(cars[i] == 'BMW'):\n",
    "         print(f\"{cars[i]}:{i}\")"
   ]
  },
  {
   "cell_type": "code",
   "execution_count": 150,
   "id": "4029b463-8666-4926-8a43-ecc3eb8f3d6f",
   "metadata": {
    "tags": []
   },
   "outputs": [
    {
     "name": "stdout",
     "output_type": "stream",
     "text": [
      "The index of  BMW is : 1\n",
      "The index of  BMW is : 5\n"
     ]
    }
   ],
   "source": [
    "for i in range(len(cars)):\n",
    "    if(cars[i] == 'BMW'):\n",
    "         print(\"The index of \",cars[i],\"is :\",i)"
   ]
  },
  {
   "cell_type": "code",
   "execution_count": null,
   "id": "e3be7142-ba3e-4f4b-8c22-c9bc0a878828",
   "metadata": {},
   "outputs": [],
   "source": []
  },
  {
   "cell_type": "markdown",
   "id": "772805cd-fb8e-486a-9e61-7703d6f6de4c",
   "metadata": {
    "tags": []
   },
   "source": [
    "## insert()\n",
    "The insert() method inserts the specified value at the specified position."
   ]
  },
  {
   "cell_type": "code",
   "execution_count": 155,
   "id": "67737938-10cb-4fbf-994b-21049737c69f",
   "metadata": {
    "tags": []
   },
   "outputs": [],
   "source": [
    "fruits = ['Apple','Banana','Mango','Orange']"
   ]
  },
  {
   "cell_type": "code",
   "execution_count": 157,
   "id": "daf9d408-a740-4c0d-9257-2e8a3f792fcf",
   "metadata": {
    "tags": []
   },
   "outputs": [],
   "source": [
    "fruits.insert(1,'Cherry')"
   ]
  },
  {
   "cell_type": "code",
   "execution_count": 159,
   "id": "f120e043-4c2e-4ef5-b132-1f80d8692cf0",
   "metadata": {
    "tags": []
   },
   "outputs": [
    {
     "data": {
      "text/plain": [
       "['Apple', 'Cherry', 'Banana', 'Mango', 'Orange']"
      ]
     },
     "execution_count": 159,
     "metadata": {},
     "output_type": "execute_result"
    }
   ],
   "source": [
    "fruits"
   ]
  },
  {
   "cell_type": "code",
   "execution_count": 161,
   "id": "afc96ea7-a598-426e-9328-3788ec5ac1e9",
   "metadata": {
    "tags": []
   },
   "outputs": [],
   "source": [
    "fruits.insert(3,'Guava')"
   ]
  },
  {
   "cell_type": "code",
   "execution_count": 163,
   "id": "75b55331-b7b8-4409-aac1-b2cc2db536b0",
   "metadata": {
    "tags": []
   },
   "outputs": [
    {
     "data": {
      "text/plain": [
       "['Apple', 'Cherry', 'Banana', 'Guava', 'Mango', 'Orange']"
      ]
     },
     "execution_count": 163,
     "metadata": {},
     "output_type": "execute_result"
    }
   ],
   "source": [
    "fruits"
   ]
  },
  {
   "cell_type": "code",
   "execution_count": 165,
   "id": "fdab2a30-6cbc-4829-9b0b-eae6932038f4",
   "metadata": {
    "tags": []
   },
   "outputs": [],
   "source": [
    "fruits.insert(10,'Kiwi')"
   ]
  },
  {
   "cell_type": "code",
   "execution_count": 167,
   "id": "5042b497-fa0b-48d7-879a-5349e78a1732",
   "metadata": {
    "tags": []
   },
   "outputs": [
    {
     "data": {
      "text/plain": [
       "['Apple', 'Cherry', 'Banana', 'Guava', 'Mango', 'Orange', 'Kiwi']"
      ]
     },
     "execution_count": 167,
     "metadata": {},
     "output_type": "execute_result"
    }
   ],
   "source": [
    "fruits"
   ]
  },
  {
   "cell_type": "code",
   "execution_count": null,
   "id": "b7e7ab6a-2d47-4b7f-988b-3be035fe8f4c",
   "metadata": {},
   "outputs": [],
   "source": []
  },
  {
   "cell_type": "markdown",
   "id": "4c2b4f5d-2435-48ff-a12d-931ea70307f6",
   "metadata": {},
   "source": [
    "## pop()\n",
    "The pop() method removes the element at thespecified position."
   ]
  },
  {
   "cell_type": "code",
   "execution_count": 170,
   "id": "9ec99c97-f07a-4d85-970e-85e7e0bea8d4",
   "metadata": {
    "tags": []
   },
   "outputs": [],
   "source": [
    "fruits = ['Apple','Banana','Mango','Orange','Guava','Kiwi']"
   ]
  },
  {
   "cell_type": "code",
   "execution_count": 172,
   "id": "d4865234-aa64-4e51-b9cf-00b47e3e39fe",
   "metadata": {
    "tags": []
   },
   "outputs": [
    {
     "data": {
      "text/plain": [
       "'Orange'"
      ]
     },
     "execution_count": 172,
     "metadata": {},
     "output_type": "execute_result"
    }
   ],
   "source": [
    "fruits.pop(3)"
   ]
  },
  {
   "cell_type": "code",
   "execution_count": 174,
   "id": "64d18f9c-4fed-48c5-b0a4-adb79071b2c2",
   "metadata": {
    "tags": []
   },
   "outputs": [
    {
     "data": {
      "text/plain": [
       "['Apple', 'Banana', 'Mango', 'Guava', 'Kiwi']"
      ]
     },
     "execution_count": 174,
     "metadata": {},
     "output_type": "execute_result"
    }
   ],
   "source": [
    "fruits"
   ]
  },
  {
   "cell_type": "code",
   "execution_count": 176,
   "id": "3dd0bc27-2b5e-4495-a1f4-3b891242a636",
   "metadata": {
    "tags": []
   },
   "outputs": [],
   "source": [
    "fruits.insert(100,'Orange')"
   ]
  },
  {
   "cell_type": "code",
   "execution_count": 178,
   "id": "c6fd6c1d-dbc8-4bca-b696-3b8abe8e1b11",
   "metadata": {
    "tags": []
   },
   "outputs": [
    {
     "data": {
      "text/plain": [
       "['Apple', 'Banana', 'Mango', 'Guava', 'Kiwi', 'Orange']"
      ]
     },
     "execution_count": 178,
     "metadata": {},
     "output_type": "execute_result"
    }
   ],
   "source": [
    "fruits"
   ]
  },
  {
   "cell_type": "code",
   "execution_count": 180,
   "id": "0ba9502a-f677-450b-87d5-d2f94efaa25a",
   "metadata": {
    "tags": []
   },
   "outputs": [
    {
     "data": {
      "text/plain": [
       "'Banana'"
      ]
     },
     "execution_count": 180,
     "metadata": {},
     "output_type": "execute_result"
    }
   ],
   "source": [
    "fruits.pop(1)"
   ]
  },
  {
   "cell_type": "code",
   "execution_count": 182,
   "id": "899469e3-0b4e-4bc2-977e-8c7489dc1924",
   "metadata": {
    "tags": []
   },
   "outputs": [
    {
     "data": {
      "text/plain": [
       "['Apple', 'Mango', 'Guava', 'Kiwi', 'Orange']"
      ]
     },
     "execution_count": 182,
     "metadata": {},
     "output_type": "execute_result"
    }
   ],
   "source": [
    "fruits"
   ]
  },
  {
   "cell_type": "code",
   "execution_count": null,
   "id": "09f8a44a-3e07-4959-a28d-ee722cd6c84f",
   "metadata": {},
   "outputs": [],
   "source": []
  },
  {
   "cell_type": "markdown",
   "id": "61862797-5d5a-4c97-89c5-6e2b0e219215",
   "metadata": {},
   "source": [
    "## remove()\n",
    "The remove() method removes the firstoccurrence of the element with the specified value."
   ]
  },
  {
   "cell_type": "code",
   "execution_count": 185,
   "id": "15420a55-25d0-4a90-9b53-33286d05288f",
   "metadata": {
    "tags": []
   },
   "outputs": [],
   "source": [
    "fruits = ['Apple','Banana','Mango','Orange','Guava','Kiwi','Banana']"
   ]
  },
  {
   "cell_type": "code",
   "execution_count": 189,
   "id": "bf180299-db9d-4cda-b135-2d5bc576c795",
   "metadata": {
    "tags": []
   },
   "outputs": [],
   "source": [
    "fruits.remove('Banana')"
   ]
  },
  {
   "cell_type": "code",
   "execution_count": 191,
   "id": "6296efa9-ca1b-44d3-8054-d0c0fa86572f",
   "metadata": {
    "tags": []
   },
   "outputs": [
    {
     "data": {
      "text/plain": [
       "['Apple', 'Mango', 'Orange', 'Guava', 'Kiwi', 'Banana']"
      ]
     },
     "execution_count": 191,
     "metadata": {},
     "output_type": "execute_result"
    }
   ],
   "source": [
    "fruits"
   ]
  },
  {
   "cell_type": "code",
   "execution_count": 255,
   "id": "e640c855-fb81-43ea-8796-8dd254742ab9",
   "metadata": {
    "tags": []
   },
   "outputs": [
    {
     "name": "stdout",
     "output_type": "stream",
     "text": [
      "Apple\n",
      "Banana\n",
      "Mango\n",
      "Orange\n",
      "Guava\n",
      "Kiwi\n"
     ]
    }
   ],
   "source": [
    "fruits = ['Apple','Banana','Mango','Orange','Guava','Kiwi','Banana']\n",
    "\n",
    "for fruit in fruits:\n",
    "    print(fruit)\n",
    "    if(fruit == 'Banana'):\n",
    "        fruits.pop()\n"
   ]
  },
  {
   "cell_type": "code",
   "execution_count": 235,
   "id": "38ab18b8-883a-48b4-acf8-a7901da1b674",
   "metadata": {
    "tags": []
   },
   "outputs": [
    {
     "data": {
      "text/plain": [
       "['Apple', 'Banana', 'Mango', 'Orange', 'Guava', 'Kiwi', 'Banana']"
      ]
     },
     "execution_count": 235,
     "metadata": {},
     "output_type": "execute_result"
    }
   ],
   "source": [
    "fruits"
   ]
  },
  {
   "cell_type": "markdown",
   "id": "79310a18-bc77-45ea-9022-56d1b8cb53a4",
   "metadata": {},
   "source": [
    "## reverse()\n",
    "The reverse() method reverses the sortingorder of the elements."
   ]
  },
  {
   "cell_type": "code",
   "execution_count": 194,
   "id": "297c1e2f-a138-4661-a36e-724a06e3e1fe",
   "metadata": {
    "tags": []
   },
   "outputs": [],
   "source": [
    "cars = ['Mercedes','BMW','Audi','Jaguar','Range Rover','BMW']"
   ]
  },
  {
   "cell_type": "code",
   "execution_count": 196,
   "id": "562eaa6d-86f2-4e62-b023-63994190beef",
   "metadata": {
    "tags": []
   },
   "outputs": [],
   "source": [
    "cars.reverse()"
   ]
  },
  {
   "cell_type": "code",
   "execution_count": 198,
   "id": "be306658-5269-4a62-b33d-4667184a05d8",
   "metadata": {
    "tags": []
   },
   "outputs": [
    {
     "data": {
      "text/plain": [
       "['BMW', 'Range Rover', 'Jaguar', 'Audi', 'BMW', 'Mercedes']"
      ]
     },
     "execution_count": 198,
     "metadata": {},
     "output_type": "execute_result"
    }
   ],
   "source": [
    "cars"
   ]
  },
  {
   "cell_type": "code",
   "execution_count": null,
   "id": "7baaa7a9-81a6-4b21-896e-681476358ea6",
   "metadata": {},
   "outputs": [],
   "source": []
  },
  {
   "cell_type": "markdown",
   "id": "9336c84f-5b58-45cb-a789-066f85578d50",
   "metadata": {},
   "source": [
    "## sort()\n",
    "It is used to sort in python or the elements of a list in ascending order by default. The sort()method modifies the original list in-place, meaning it rearranges the elements directly within the existing list object, rather than creating a new sorted list"
   ]
  },
  {
   "cell_type": "code",
   "execution_count": 201,
   "id": "efc0057e-320a-4b3a-8013-ea3c5ebe6c2b",
   "metadata": {
    "tags": []
   },
   "outputs": [],
   "source": [
    "cars = ['Mercedes','BMW','Audi','Jaguar','Range Rover','BMW']"
   ]
  },
  {
   "cell_type": "code",
   "execution_count": 203,
   "id": "52571154-57c0-423a-9983-defbf8423a6e",
   "metadata": {
    "tags": []
   },
   "outputs": [],
   "source": [
    "cars.sort()"
   ]
  },
  {
   "cell_type": "code",
   "execution_count": 205,
   "id": "f75d203c-1afb-4f59-9ce5-58f22f2533d1",
   "metadata": {
    "tags": []
   },
   "outputs": [
    {
     "data": {
      "text/plain": [
       "['Audi', 'BMW', 'BMW', 'Jaguar', 'Mercedes', 'Range Rover']"
      ]
     },
     "execution_count": 205,
     "metadata": {},
     "output_type": "execute_result"
    }
   ],
   "source": [
    "cars"
   ]
  },
  {
   "cell_type": "code",
   "execution_count": 261,
   "id": "a8457403-fe47-40a3-8b2b-9563de2a3f32",
   "metadata": {
    "tags": []
   },
   "outputs": [],
   "source": [
    "cars.sort(reverse=True)"
   ]
  },
  {
   "cell_type": "code",
   "execution_count": 263,
   "id": "2ffc5092-43db-4820-83ff-7e0a7b23b1f7",
   "metadata": {
    "tags": []
   },
   "outputs": [
    {
     "data": {
      "text/plain": [
       "['Range Rover', 'Mercedes', 'Jaguar', 'BMW', 'BMW', 'Audi']"
      ]
     },
     "execution_count": 263,
     "metadata": {},
     "output_type": "execute_result"
    }
   ],
   "source": [
    "cars"
   ]
  },
  {
   "cell_type": "code",
   "execution_count": null,
   "id": "c5c174b1-09d0-4936-b70f-2d28e7b15f13",
   "metadata": {
    "tags": []
   },
   "outputs": [],
   "source": []
  },
  {
   "cell_type": "markdown",
   "id": "a2c47742-6213-4514-ab3d-4675e44f795c",
   "metadata": {},
   "source": [
    "## Tuples\n",
    "Tuples are ordered collection of data item. They store multiple items in a single variable. Tuple items are separated by commas amd enclosed with (). Tuples are unchangeable/immutable after creation"
   ]
  },
  {
   "cell_type": "code",
   "execution_count": 9,
   "id": "2a44f25c-1778-42f5-a39e-8a78b914cadc",
   "metadata": {
    "tags": []
   },
   "outputs": [],
   "source": [
    "tup = (1,2,3,4,5)"
   ]
  },
  {
   "cell_type": "code",
   "execution_count": 275,
   "id": "1af5af3d-dd7c-48a0-9f75-d16f47039b44",
   "metadata": {
    "tags": []
   },
   "outputs": [
    {
     "data": {
      "text/plain": [
       "tuple"
      ]
     },
     "execution_count": 275,
     "metadata": {},
     "output_type": "execute_result"
    }
   ],
   "source": [
    "type(tup)"
   ]
  },
  {
   "cell_type": "code",
   "execution_count": 277,
   "id": "74c192bf-90b7-4338-a524-c2401aac18c7",
   "metadata": {
    "tags": []
   },
   "outputs": [],
   "source": [
    "tup1 = (\"Praveen\",True,0.35,1)"
   ]
  },
  {
   "cell_type": "code",
   "execution_count": 279,
   "id": "af63e8b0-e9fa-44c5-b3b2-ab2855b9f4d1",
   "metadata": {
    "tags": []
   },
   "outputs": [
    {
     "data": {
      "text/plain": [
       "tuple"
      ]
     },
     "execution_count": 279,
     "metadata": {},
     "output_type": "execute_result"
    }
   ],
   "source": [
    "type(tup1)"
   ]
  },
  {
   "cell_type": "code",
   "execution_count": 283,
   "id": "c9c8acca-291b-48ac-84bc-3eb0e25ba3ef",
   "metadata": {
    "tags": []
   },
   "outputs": [
    {
     "data": {
      "text/plain": [
       "5"
      ]
     },
     "execution_count": 283,
     "metadata": {},
     "output_type": "execute_result"
    }
   ],
   "source": [
    "tup[4]"
   ]
  },
  {
   "cell_type": "code",
   "execution_count": 285,
   "id": "e0d498ba-dd8f-4a41-abf6-945ed47b968b",
   "metadata": {
    "tags": []
   },
   "outputs": [
    {
     "data": {
      "text/plain": [
       "'Praveen'"
      ]
     },
     "execution_count": 285,
     "metadata": {},
     "output_type": "execute_result"
    }
   ],
   "source": [
    "tup1[0]"
   ]
  },
  {
   "cell_type": "code",
   "execution_count": 287,
   "id": "5a1edb1f-ff15-4456-9fc7-9f9ddd65a5e1",
   "metadata": {
    "tags": []
   },
   "outputs": [
    {
     "data": {
      "text/plain": [
       "True"
      ]
     },
     "execution_count": 287,
     "metadata": {},
     "output_type": "execute_result"
    }
   ],
   "source": [
    "tup1[1]"
   ]
  },
  {
   "cell_type": "code",
   "execution_count": 337,
   "id": "62aea614-466c-42d5-91e5-5685fe648823",
   "metadata": {
    "tags": []
   },
   "outputs": [],
   "source": [
    "#list = [1,2,3,4]\n",
    "#list[3]=5\n",
    "#print(list)"
   ]
  },
  {
   "cell_type": "code",
   "execution_count": 32,
   "id": "4501bd88-71a3-43dd-8ba2-a537783f0818",
   "metadata": {
    "tags": []
   },
   "outputs": [
    {
     "ename": "TypeError",
     "evalue": "'tuple' object does not support item assignment",
     "output_type": "error",
     "traceback": [
      "\u001b[1;31m---------------------------------------------------------------------------\u001b[0m",
      "\u001b[1;31mTypeError\u001b[0m                                 Traceback (most recent call last)",
      "Cell \u001b[1;32mIn[32], line 2\u001b[0m\n\u001b[0;32m      1\u001b[0m tup \u001b[38;5;241m=\u001b[39m (\u001b[38;5;241m1\u001b[39m,\u001b[38;5;241m2\u001b[39m,\u001b[38;5;241m3\u001b[39m,\u001b[38;5;241m4\u001b[39m,\u001b[38;5;241m5\u001b[39m)\n\u001b[1;32m----> 2\u001b[0m tup[\u001b[38;5;241m4\u001b[39m]\u001b[38;5;241m=\u001b[39m\u001b[38;5;241m10\u001b[39m\n",
      "\u001b[1;31mTypeError\u001b[0m: 'tuple' object does not support item assignment"
     ]
    }
   ],
   "source": [
    "tup = (1,2,3,4,5)\n",
    "tup[4]=10"
   ]
  },
  {
   "cell_type": "code",
   "execution_count": 34,
   "id": "b46bce28-d032-4b66-a26b-ad7ea7818227",
   "metadata": {
    "tags": []
   },
   "outputs": [
    {
     "ename": "TypeError",
     "evalue": "'tuple' object does not support item assignment",
     "output_type": "error",
     "traceback": [
      "\u001b[1;31m---------------------------------------------------------------------------\u001b[0m",
      "\u001b[1;31mTypeError\u001b[0m                                 Traceback (most recent call last)",
      "Cell \u001b[1;32mIn[34], line 1\u001b[0m\n\u001b[1;32m----> 1\u001b[0m tup[\u001b[38;5;241m5\u001b[39m]\u001b[38;5;241m=\u001b[39m\u001b[38;5;241m6\u001b[39m\n",
      "\u001b[1;31mTypeError\u001b[0m: 'tuple' object does not support item assignment"
     ]
    }
   ],
   "source": [
    "tup[5]=6"
   ]
  },
  {
   "cell_type": "code",
   "execution_count": 36,
   "id": "f1000eb5-a17f-46ff-a40f-dbcc2146ed24",
   "metadata": {
    "tags": []
   },
   "outputs": [
    {
     "ename": "AttributeError",
     "evalue": "'tuple' object has no attribute 'append'",
     "output_type": "error",
     "traceback": [
      "\u001b[1;31m---------------------------------------------------------------------------\u001b[0m",
      "\u001b[1;31mAttributeError\u001b[0m                            Traceback (most recent call last)",
      "Cell \u001b[1;32mIn[36], line 1\u001b[0m\n\u001b[1;32m----> 1\u001b[0m tup\u001b[38;5;241m.\u001b[39mappend(\u001b[38;5;241m6\u001b[39m)\n",
      "\u001b[1;31mAttributeError\u001b[0m: 'tuple' object has no attribute 'append'"
     ]
    }
   ],
   "source": [
    "tup.append(6)"
   ]
  },
  {
   "cell_type": "code",
   "execution_count": 38,
   "id": "808c64ea-b509-4f41-a5e8-dcd460f2d456",
   "metadata": {
    "tags": []
   },
   "outputs": [
    {
     "data": {
      "text/plain": [
       "1"
      ]
     },
     "execution_count": 38,
     "metadata": {},
     "output_type": "execute_result"
    }
   ],
   "source": [
    "tup.count(3)"
   ]
  },
  {
   "cell_type": "code",
   "execution_count": 40,
   "id": "2f1c5412-c3ff-46cb-aa15-65403d43edda",
   "metadata": {
    "tags": []
   },
   "outputs": [],
   "source": [
    "lst = list(tup)"
   ]
  },
  {
   "cell_type": "code",
   "execution_count": 42,
   "id": "336bc376-d879-4d70-8876-a811910ef77f",
   "metadata": {
    "tags": []
   },
   "outputs": [
    {
     "data": {
      "text/plain": [
       "[1, 2, 3, 4, 5]"
      ]
     },
     "execution_count": 42,
     "metadata": {},
     "output_type": "execute_result"
    }
   ],
   "source": [
    "lst"
   ]
  },
  {
   "cell_type": "code",
   "execution_count": 44,
   "id": "d5d39559-b061-456a-9a2a-cf22a12d83e3",
   "metadata": {
    "tags": []
   },
   "outputs": [],
   "source": [
    "lst.append(6)"
   ]
  },
  {
   "cell_type": "code",
   "execution_count": 46,
   "id": "9ec22a7c-b65d-47e0-8f39-1e9fa8888257",
   "metadata": {
    "tags": []
   },
   "outputs": [
    {
     "data": {
      "text/plain": [
       "[1, 2, 3, 4, 5, 6]"
      ]
     },
     "execution_count": 46,
     "metadata": {},
     "output_type": "execute_result"
    }
   ],
   "source": [
    "lst"
   ]
  },
  {
   "cell_type": "code",
   "execution_count": 48,
   "id": "29cc425e-ea65-4525-9fea-aba7e2ef2c4c",
   "metadata": {
    "tags": []
   },
   "outputs": [
    {
     "data": {
      "text/plain": [
       "list"
      ]
     },
     "execution_count": 48,
     "metadata": {},
     "output_type": "execute_result"
    }
   ],
   "source": [
    "type(lst)"
   ]
  },
  {
   "cell_type": "code",
   "execution_count": 50,
   "id": "68eb8776-fb9f-476b-801f-58dc39e37f25",
   "metadata": {
    "tags": []
   },
   "outputs": [],
   "source": [
    "tup = tuple(lst)"
   ]
  },
  {
   "cell_type": "code",
   "execution_count": 52,
   "id": "a4e57c0a-dc8e-488d-9387-74b565e42b25",
   "metadata": {
    "tags": []
   },
   "outputs": [
    {
     "data": {
      "text/plain": [
       "tuple"
      ]
     },
     "execution_count": 52,
     "metadata": {},
     "output_type": "execute_result"
    }
   ],
   "source": [
    "type(tup)"
   ]
  },
  {
   "cell_type": "code",
   "execution_count": 54,
   "id": "81332e84-5bcd-4078-8673-af355cdc8ce4",
   "metadata": {
    "tags": []
   },
   "outputs": [
    {
     "data": {
      "text/plain": [
       "(1, 2, 3, 4, 5, 6)"
      ]
     },
     "execution_count": 54,
     "metadata": {},
     "output_type": "execute_result"
    }
   ],
   "source": [
    "tup"
   ]
  },
  {
   "cell_type": "code",
   "execution_count": 15,
   "id": "367e0846-081c-4443-8350-f3cd78c4f5bd",
   "metadata": {
    "tags": []
   },
   "outputs": [],
   "source": [
    "cars = ('Mercedes','BMW','Audi','Jaguar','Range Rover','BMW')\n",
    "type(cars)\n",
    "newCars = list(cars)"
   ]
  },
  {
   "cell_type": "code",
   "execution_count": 17,
   "id": "02dd0d2f-3e03-4455-8763-e815e7135da9",
   "metadata": {
    "tags": []
   },
   "outputs": [
    {
     "data": {
      "text/plain": [
       "list"
      ]
     },
     "execution_count": 17,
     "metadata": {},
     "output_type": "execute_result"
    }
   ],
   "source": [
    "type(newCars)"
   ]
  },
  {
   "cell_type": "code",
   "execution_count": 19,
   "id": "bb2af006-ebc2-41d7-b8b0-79205b5cbefb",
   "metadata": {
    "tags": []
   },
   "outputs": [
    {
     "data": {
      "text/plain": [
       "['Mercedes', 'BMW', 'Audi', 'Jaguar', 'Range Rover', 'BMW']"
      ]
     },
     "execution_count": 19,
     "metadata": {},
     "output_type": "execute_result"
    }
   ],
   "source": [
    "newCars"
   ]
  },
  {
   "cell_type": "code",
   "execution_count": 21,
   "id": "8c767cb2-3eae-4b6f-9d2f-49783319603f",
   "metadata": {
    "tags": []
   },
   "outputs": [],
   "source": [
    "newCars.append('Buggatti')"
   ]
  },
  {
   "cell_type": "code",
   "execution_count": 23,
   "id": "3b9d4bd0-03df-4fb8-8a5c-66bc22c9fb11",
   "metadata": {
    "tags": []
   },
   "outputs": [
    {
     "data": {
      "text/plain": [
       "['Mercedes', 'BMW', 'Audi', 'Jaguar', 'Range Rover', 'BMW', 'Buggatti']"
      ]
     },
     "execution_count": 23,
     "metadata": {},
     "output_type": "execute_result"
    }
   ],
   "source": [
    "newCars"
   ]
  },
  {
   "cell_type": "code",
   "execution_count": 25,
   "id": "4e3895ea-a0e3-4207-9ddb-07b7a0da95b0",
   "metadata": {
    "tags": []
   },
   "outputs": [],
   "source": [
    "cars = tuple(newCars)"
   ]
  },
  {
   "cell_type": "code",
   "execution_count": 27,
   "id": "1373e068-a4ec-4930-8ab7-02e56c065a1f",
   "metadata": {
    "tags": []
   },
   "outputs": [
    {
     "data": {
      "text/plain": [
       "('Mercedes', 'BMW', 'Audi', 'Jaguar', 'Range Rover', 'BMW', 'Buggatti')"
      ]
     },
     "execution_count": 27,
     "metadata": {},
     "output_type": "execute_result"
    }
   ],
   "source": [
    "cars"
   ]
  },
  {
   "cell_type": "code",
   "execution_count": 29,
   "id": "a8d82c15-425e-4981-af7d-815343031e79",
   "metadata": {
    "tags": []
   },
   "outputs": [
    {
     "data": {
      "text/plain": [
       "tuple"
      ]
     },
     "execution_count": 29,
     "metadata": {},
     "output_type": "execute_result"
    }
   ],
   "source": [
    "type(cars)"
   ]
  },
  {
   "cell_type": "code",
   "execution_count": null,
   "id": "6293e62f-e19e-4ad2-80a8-203680c56e6b",
   "metadata": {},
   "outputs": [],
   "source": []
  },
  {
   "cell_type": "code",
   "execution_count": null,
   "id": "05ef2896-bf0c-4041-a25f-df3d7b7d0d1e",
   "metadata": {},
   "outputs": [],
   "source": []
  },
  {
   "cell_type": "code",
   "execution_count": null,
   "id": "d3780186-2b68-4de3-a70a-0b12df2dbcb2",
   "metadata": {},
   "outputs": [],
   "source": []
  }
 ],
 "metadata": {
  "kernelspec": {
   "display_name": "Python 3 (ipykernel)",
   "language": "python",
   "name": "python3"
  },
  "language_info": {
   "codemirror_mode": {
    "name": "ipython",
    "version": 3
   },
   "file_extension": ".py",
   "mimetype": "text/x-python",
   "name": "python",
   "nbconvert_exporter": "python",
   "pygments_lexer": "ipython3",
   "version": "3.11.7"
  }
 },
 "nbformat": 4,
 "nbformat_minor": 5
}
