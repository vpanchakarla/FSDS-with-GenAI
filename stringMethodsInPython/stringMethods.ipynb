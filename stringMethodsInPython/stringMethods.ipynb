{
 "cells": [
  {
   "cell_type": "markdown",
   "id": "66347b0d-22c6-4d03-97d0-045593a9b48e",
   "metadata": {
    "tags": []
   },
   "source": [
    "## String Variables \n",
    "## upper()"
   ]
  },
  {
   "cell_type": "code",
   "execution_count": 1,
   "id": "1b8b68db-4459-448e-9c80-6d5479522cc8",
   "metadata": {
    "tags": []
   },
   "outputs": [],
   "source": [
    "name = \"praveen\""
   ]
  },
  {
   "cell_type": "code",
   "execution_count": 3,
   "id": "4d8f398b-eb9d-40c5-97fc-e5b07232483c",
   "metadata": {
    "tags": []
   },
   "outputs": [
    {
     "data": {
      "text/plain": [
       "str"
      ]
     },
     "execution_count": 3,
     "metadata": {},
     "output_type": "execute_result"
    }
   ],
   "source": [
    "type(name)"
   ]
  },
  {
   "cell_type": "code",
   "execution_count": 5,
   "id": "c946eb22-1c9c-4c71-9c30-2ef3d1f6977b",
   "metadata": {
    "tags": []
   },
   "outputs": [
    {
     "data": {
      "text/plain": [
       "'p'"
      ]
     },
     "execution_count": 5,
     "metadata": {},
     "output_type": "execute_result"
    }
   ],
   "source": [
    "name[0]"
   ]
  },
  {
   "cell_type": "code",
   "execution_count": 9,
   "id": "d3eea9d2-75fc-4fc8-8410-966dcbab8d43",
   "metadata": {
    "tags": []
   },
   "outputs": [
    {
     "data": {
      "text/plain": [
       "str"
      ]
     },
     "execution_count": 9,
     "metadata": {},
     "output_type": "execute_result"
    }
   ],
   "source": [
    "type(name[0])"
   ]
  },
  {
   "cell_type": "code",
   "execution_count": 11,
   "id": "bde7e769-4659-4ea4-9188-6d723acafe1f",
   "metadata": {
    "tags": []
   },
   "outputs": [
    {
     "data": {
      "text/plain": [
       "'PRAVEEN'"
      ]
     },
     "execution_count": 11,
     "metadata": {},
     "output_type": "execute_result"
    }
   ],
   "source": [
    "name.upper()"
   ]
  },
  {
   "cell_type": "markdown",
   "id": "a223ded3-53d7-4c4d-b0ab-fa89a61fa1e7",
   "metadata": {},
   "source": [
    "## lower()"
   ]
  },
  {
   "cell_type": "code",
   "execution_count": 13,
   "id": "cdf12af0-56e5-409f-9054-1a635b17553f",
   "metadata": {
    "tags": []
   },
   "outputs": [
    {
     "data": {
      "text/plain": [
       "'praveen'"
      ]
     },
     "execution_count": 13,
     "metadata": {},
     "output_type": "execute_result"
    }
   ],
   "source": [
    "name.lower()"
   ]
  },
  {
   "cell_type": "code",
   "execution_count": 15,
   "id": "6e63ce35-5140-4ff6-8809-d09bd4c03c31",
   "metadata": {
    "tags": []
   },
   "outputs": [],
   "source": [
    "name = name.upper()"
   ]
  },
  {
   "cell_type": "code",
   "execution_count": 17,
   "id": "cb5c38bc-77e7-4098-acef-66ad7038d8c0",
   "metadata": {
    "tags": []
   },
   "outputs": [
    {
     "data": {
      "text/plain": [
       "'PRAVEEN'"
      ]
     },
     "execution_count": 17,
     "metadata": {},
     "output_type": "execute_result"
    }
   ],
   "source": [
    "name"
   ]
  },
  {
   "cell_type": "code",
   "execution_count": 19,
   "id": "2060cc3e-f425-4690-b144-01507d14b3ee",
   "metadata": {
    "tags": []
   },
   "outputs": [
    {
     "data": {
      "text/plain": [
       "'praveen'"
      ]
     },
     "execution_count": 19,
     "metadata": {},
     "output_type": "execute_result"
    }
   ],
   "source": [
    "name.lower()"
   ]
  },
  {
   "cell_type": "code",
   "execution_count": 21,
   "id": "28e9955f-4574-45d0-87f1-65eaff7e2e15",
   "metadata": {
    "tags": []
   },
   "outputs": [],
   "source": [
    "str1 = \"Python is a powerful language\""
   ]
  },
  {
   "cell_type": "code",
   "execution_count": 23,
   "id": "b654b338-28dc-44c9-8260-08c848707ba7",
   "metadata": {
    "tags": []
   },
   "outputs": [],
   "source": [
    "str1 = str1.upper()"
   ]
  },
  {
   "cell_type": "code",
   "execution_count": 25,
   "id": "3a7b15c3-2021-4fb5-a89d-e6f99ad7b844",
   "metadata": {
    "tags": []
   },
   "outputs": [
    {
     "name": "stdout",
     "output_type": "stream",
     "text": [
      "PYTHON IS A POWERFUL LANGUAGE\n"
     ]
    }
   ],
   "source": [
    "print(str1)"
   ]
  },
  {
   "cell_type": "code",
   "execution_count": 32,
   "id": "abf00394-09bd-49d4-b56f-1faf8935d0db",
   "metadata": {
    "tags": []
   },
   "outputs": [],
   "source": [
    "str2 = str1.lower() + \" and it's awesome\""
   ]
  },
  {
   "cell_type": "code",
   "execution_count": 34,
   "id": "446947df-44bd-4f62-a84c-d19475c0e199",
   "metadata": {
    "tags": []
   },
   "outputs": [
    {
     "data": {
      "text/plain": [
       "\"python is a powerful language and it's awesome\""
      ]
     },
     "execution_count": 34,
     "metadata": {},
     "output_type": "execute_result"
    }
   ],
   "source": [
    "str2"
   ]
  },
  {
   "cell_type": "code",
   "execution_count": 36,
   "id": "84dbd6f6-6afc-4828-8197-390e46d8164b",
   "metadata": {
    "tags": []
   },
   "outputs": [],
   "source": [
    "str3 = \"DATA SCIENCE\""
   ]
  },
  {
   "cell_type": "code",
   "execution_count": 40,
   "id": "2f5964d1-ed90-40e3-982e-ad3fbad1a173",
   "metadata": {
    "tags": []
   },
   "outputs": [
    {
     "data": {
      "text/plain": [
       "'data'"
      ]
     },
     "execution_count": 40,
     "metadata": {},
     "output_type": "execute_result"
    }
   ],
   "source": [
    "str3[0:4].lower()"
   ]
  },
  {
   "cell_type": "code",
   "execution_count": 48,
   "id": "e82adc4a-8a78-4135-a83b-3facae1dcf2d",
   "metadata": {
    "tags": []
   },
   "outputs": [
    {
     "data": {
      "text/plain": [
       "'science'"
      ]
     },
     "execution_count": 48,
     "metadata": {},
     "output_type": "execute_result"
    }
   ],
   "source": [
    "str3[5:].lower()"
   ]
  },
  {
   "cell_type": "markdown",
   "id": "c7d106b0-5ee4-4134-83a1-382b26b1a639",
   "metadata": {},
   "source": [
    "## strip()"
   ]
  },
  {
   "cell_type": "code",
   "execution_count": 51,
   "id": "c0c100ed-673f-48e4-af3c-acd24bdab231",
   "metadata": {
    "tags": []
   },
   "outputs": [],
   "source": [
    "str4 = \"My name is Praveen      \""
   ]
  },
  {
   "cell_type": "code",
   "execution_count": 53,
   "id": "8a9bf894-0ef3-4224-a3cb-8653c18c6d3e",
   "metadata": {
    "tags": []
   },
   "outputs": [
    {
     "data": {
      "text/plain": [
       "'My name is Praveen      '"
      ]
     },
     "execution_count": 53,
     "metadata": {},
     "output_type": "execute_result"
    }
   ],
   "source": [
    "str4"
   ]
  },
  {
   "cell_type": "code",
   "execution_count": 55,
   "id": "99cfbc67-9fdf-478d-a1b3-740f976ea329",
   "metadata": {
    "tags": []
   },
   "outputs": [
    {
     "data": {
      "text/plain": [
       "'My name is Praveen'"
      ]
     },
     "execution_count": 55,
     "metadata": {},
     "output_type": "execute_result"
    }
   ],
   "source": [
    "str4.strip()"
   ]
  },
  {
   "cell_type": "code",
   "execution_count": 97,
   "id": "f847c548-61ac-4eff-ac6f-8566e842c940",
   "metadata": {
    "tags": []
   },
   "outputs": [],
   "source": [
    "str7 = \"     Praveen     \""
   ]
  },
  {
   "cell_type": "code",
   "execution_count": 99,
   "id": "84da355d-890a-4dd8-9561-cede25f77beb",
   "metadata": {
    "tags": []
   },
   "outputs": [
    {
     "data": {
      "text/plain": [
       "'Praveen'"
      ]
     },
     "execution_count": 99,
     "metadata": {},
     "output_type": "execute_result"
    }
   ],
   "source": [
    "str7.strip()"
   ]
  },
  {
   "cell_type": "markdown",
   "id": "58dadf45-b5d3-4e4a-9f16-e821ccb53ec6",
   "metadata": {},
   "source": [
    "## rstrip()"
   ]
  },
  {
   "cell_type": "code",
   "execution_count": 57,
   "id": "95b2d7f2-37b1-4776-8b4f-c0cc0343e07a",
   "metadata": {
    "tags": []
   },
   "outputs": [],
   "source": [
    "str4 = \"My name is Praveen!!!!!!!!\""
   ]
  },
  {
   "cell_type": "code",
   "execution_count": 62,
   "id": "635969f3-c6c7-4a3c-89b3-5586cd326fc5",
   "metadata": {
    "tags": []
   },
   "outputs": [
    {
     "data": {
      "text/plain": [
       "'My name is Praveen'"
      ]
     },
     "execution_count": 62,
     "metadata": {},
     "output_type": "execute_result"
    }
   ],
   "source": [
    "str4.rstrip('!')"
   ]
  },
  {
   "cell_type": "markdown",
   "id": "ff688bbd-b82b-468a-a27b-7c2ecc4f2b01",
   "metadata": {},
   "source": [
    "## lstrip()"
   ]
  },
  {
   "cell_type": "code",
   "execution_count": 77,
   "id": "94a18b46-15f2-4a8b-b735-ce165687d047",
   "metadata": {
    "tags": []
   },
   "outputs": [],
   "source": [
    "str5 = \"#####My name is Praveen\""
   ]
  },
  {
   "cell_type": "code",
   "execution_count": 79,
   "id": "3a972195-edbe-4262-9734-509ffe9f2d1c",
   "metadata": {
    "tags": []
   },
   "outputs": [
    {
     "data": {
      "text/plain": [
       "'My name is Praveen'"
      ]
     },
     "execution_count": 79,
     "metadata": {},
     "output_type": "execute_result"
    }
   ],
   "source": [
    "str5.lstrip('#')"
   ]
  },
  {
   "cell_type": "code",
   "execution_count": 87,
   "id": "497b1c28-2c7d-4a8c-8c46-37008c3af066",
   "metadata": {
    "tags": []
   },
   "outputs": [],
   "source": [
    "str6 = \"#####My name is Praveen###\""
   ]
  },
  {
   "cell_type": "code",
   "execution_count": 91,
   "id": "0f4d5527-572f-4e74-9a7e-744bac1da4b5",
   "metadata": {
    "tags": []
   },
   "outputs": [
    {
     "data": {
      "text/plain": [
       "'My name is Praveen###'"
      ]
     },
     "execution_count": 91,
     "metadata": {},
     "output_type": "execute_result"
    }
   ],
   "source": [
    "str6.lstrip('#')"
   ]
  },
  {
   "cell_type": "markdown",
   "id": "f8aa21ac-49ec-41e4-909f-fdca826cba45",
   "metadata": {
    "tags": []
   },
   "source": [
    "## replace()"
   ]
  },
  {
   "cell_type": "code",
   "execution_count": 103,
   "id": "3653930b-2597-4031-ac70-861ce9513033",
   "metadata": {
    "tags": []
   },
   "outputs": [],
   "source": [
    "str7 = \"Silver Spoon\""
   ]
  },
  {
   "cell_type": "code",
   "execution_count": 105,
   "id": "a9d94bf9-f52c-47d6-9e2c-08e9473844fc",
   "metadata": {
    "tags": []
   },
   "outputs": [
    {
     "data": {
      "text/plain": [
       "'Silver Jewelry'"
      ]
     },
     "execution_count": 105,
     "metadata": {},
     "output_type": "execute_result"
    }
   ],
   "source": [
    "str7.replace('Spoon','Jewelry')"
   ]
  },
  {
   "cell_type": "code",
   "execution_count": 107,
   "id": "476f473e-5cee-4f7b-9682-566be0580960",
   "metadata": {
    "tags": []
   },
   "outputs": [
    {
     "data": {
      "text/plain": [
       "'Silver Moon'"
      ]
     },
     "execution_count": 107,
     "metadata": {},
     "output_type": "execute_result"
    }
   ],
   "source": [
    "str7.replace(\"Sp\",\"M\")"
   ]
  },
  {
   "cell_type": "code",
   "execution_count": 109,
   "id": "e3f46609-5169-4d85-84ed-6cbdd7708eb5",
   "metadata": {
    "tags": []
   },
   "outputs": [],
   "source": [
    "str8 = \"My Name is Praveen. Praveen has one wife and two kids\""
   ]
  },
  {
   "cell_type": "code",
   "execution_count": 111,
   "id": "df4382e4-1ab6-4d40-811b-8b67fa7e786d",
   "metadata": {
    "tags": []
   },
   "outputs": [
    {
     "data": {
      "text/plain": [
       "'My Name is Kumar. Kumar has one wife and two kids'"
      ]
     },
     "execution_count": 111,
     "metadata": {},
     "output_type": "execute_result"
    }
   ],
   "source": [
    "str8.replace(\"Praveen\",\"Kumar\")"
   ]
  },
  {
   "cell_type": "code",
   "execution_count": 115,
   "id": "f6e92601-9d79-44f5-a644-045d6e38de80",
   "metadata": {
    "tags": []
   },
   "outputs": [],
   "source": [
    "str9 = \"##Silver Spoon##\""
   ]
  },
  {
   "cell_type": "code",
   "execution_count": 117,
   "id": "e6f28f2c-e591-4d99-8f79-bc81f8f0f776",
   "metadata": {
    "tags": []
   },
   "outputs": [
    {
     "data": {
      "text/plain": [
       "'Silver Spoon'"
      ]
     },
     "execution_count": 117,
     "metadata": {},
     "output_type": "execute_result"
    }
   ],
   "source": [
    "str9.strip('#')"
   ]
  },
  {
   "cell_type": "code",
   "execution_count": 277,
   "id": "9770f118-a1f3-4762-85d5-037d8b262b67",
   "metadata": {
    "tags": []
   },
   "outputs": [],
   "source": [
    "sen1 = \"@@@ My name is Praveen. I am a Netcool developer #####\""
   ]
  },
  {
   "cell_type": "code",
   "execution_count": 121,
   "id": "fba17346-04bd-48d9-9521-9eedbb3cb855",
   "metadata": {
    "tags": []
   },
   "outputs": [
    {
     "data": {
      "text/plain": [
       "' My name is Praveen. I am a Netcool developer #####'"
      ]
     },
     "execution_count": 121,
     "metadata": {},
     "output_type": "execute_result"
    }
   ],
   "source": [
    "sen1.replace('@',\"\")"
   ]
  },
  {
   "cell_type": "code",
   "execution_count": 279,
   "id": "a115c089-4565-4326-976c-7c6a4b3e7cca",
   "metadata": {
    "tags": []
   },
   "outputs": [
    {
     "data": {
      "text/plain": [
       "'My name is Praveen. I am a Netcool developer'"
      ]
     },
     "execution_count": 279,
     "metadata": {},
     "output_type": "execute_result"
    }
   ],
   "source": [
    "sen1.strip('@# ')"
   ]
  },
  {
   "cell_type": "markdown",
   "id": "e20ebd9d-1069-47d9-b5f2-934da79f458d",
   "metadata": {},
   "source": [
    "## split()"
   ]
  },
  {
   "cell_type": "code",
   "execution_count": 132,
   "id": "d7fd9e04-39f2-4319-823c-58f4ff1277ac",
   "metadata": {
    "tags": []
   },
   "outputs": [],
   "source": [
    "str10 = \"Silver Spoon\""
   ]
  },
  {
   "cell_type": "code",
   "execution_count": 134,
   "id": "73de8f2c-4bfc-4388-835f-4aed24b1af9c",
   "metadata": {
    "tags": []
   },
   "outputs": [
    {
     "data": {
      "text/plain": [
       "'Silver Spoon'"
      ]
     },
     "execution_count": 134,
     "metadata": {},
     "output_type": "execute_result"
    }
   ],
   "source": [
    "str10"
   ]
  },
  {
   "cell_type": "code",
   "execution_count": 136,
   "id": "07d4b468-220e-40c0-b4da-38c36f6a3b8a",
   "metadata": {
    "tags": []
   },
   "outputs": [],
   "source": [
    "str11 = str10.split()"
   ]
  },
  {
   "cell_type": "code",
   "execution_count": 138,
   "id": "866e3c1a-a623-40db-b69e-80d24b892241",
   "metadata": {
    "tags": []
   },
   "outputs": [
    {
     "data": {
      "text/plain": [
       "['Silver', 'Spoon']"
      ]
     },
     "execution_count": 138,
     "metadata": {},
     "output_type": "execute_result"
    }
   ],
   "source": [
    "str11"
   ]
  },
  {
   "cell_type": "code",
   "execution_count": 140,
   "id": "5b7cef68-5c56-4c34-a79e-fcfc5ca214c5",
   "metadata": {
    "tags": []
   },
   "outputs": [],
   "source": [
    "str12 = \"Silver,Spoon\""
   ]
  },
  {
   "cell_type": "code",
   "execution_count": 142,
   "id": "83d1ea6d-8b73-4d40-8e8a-f36a63cbc700",
   "metadata": {
    "tags": []
   },
   "outputs": [],
   "source": [
    "str13=str12.split(',')"
   ]
  },
  {
   "cell_type": "code",
   "execution_count": 144,
   "id": "846895da-d72e-4ce4-b599-9ff51ae98cbb",
   "metadata": {
    "tags": []
   },
   "outputs": [
    {
     "data": {
      "text/plain": [
       "['Silver', 'Spoon']"
      ]
     },
     "execution_count": 144,
     "metadata": {},
     "output_type": "execute_result"
    }
   ],
   "source": [
    "str13"
   ]
  },
  {
   "cell_type": "code",
   "execution_count": 160,
   "id": "8668df54-f1e5-4dec-8f77-21df5e782e11",
   "metadata": {
    "tags": []
   },
   "outputs": [],
   "source": [
    "stu_list = \"Praveen Shravan Paramesh\""
   ]
  },
  {
   "cell_type": "code",
   "execution_count": 156,
   "id": "3311514a-b8d9-4fe2-9d84-f0f46b20af1b",
   "metadata": {
    "tags": []
   },
   "outputs": [],
   "source": [
    "students = stu_list.split()"
   ]
  },
  {
   "cell_type": "code",
   "execution_count": 158,
   "id": "1ae34dff-a03a-4c48-af45-908768347031",
   "metadata": {
    "tags": []
   },
   "outputs": [
    {
     "data": {
      "text/plain": [
       "['Praveen', 'Shravan', 'Paramesh']"
      ]
     },
     "execution_count": 158,
     "metadata": {},
     "output_type": "execute_result"
    }
   ],
   "source": [
    "students"
   ]
  },
  {
   "cell_type": "code",
   "execution_count": 152,
   "id": "71f5a07c-4d24-4411-b8cc-ff76c34c605b",
   "metadata": {
    "tags": []
   },
   "outputs": [
    {
     "data": {
      "text/plain": [
       "list"
      ]
     },
     "execution_count": 152,
     "metadata": {},
     "output_type": "execute_result"
    }
   ],
   "source": [
    "type(students)"
   ]
  },
  {
   "cell_type": "markdown",
   "id": "d86a439b-c4ab-4db9-90f6-faaeb08a0b77",
   "metadata": {},
   "source": [
    "## capitalize()"
   ]
  },
  {
   "cell_type": "code",
   "execution_count": 163,
   "id": "e08334bf-2841-4cc6-9f40-78ecb1f613b6",
   "metadata": {
    "tags": []
   },
   "outputs": [],
   "source": [
    "sen2 = \"data science is a Future technology\""
   ]
  },
  {
   "cell_type": "code",
   "execution_count": 165,
   "id": "82d87475-9902-4972-829f-9c7a160ad25f",
   "metadata": {
    "tags": []
   },
   "outputs": [
    {
     "data": {
      "text/plain": [
       "'Data science is a future technology'"
      ]
     },
     "execution_count": 165,
     "metadata": {},
     "output_type": "execute_result"
    }
   ],
   "source": [
    "sen2.capitalize()"
   ]
  },
  {
   "cell_type": "markdown",
   "id": "8b08b2db-186a-42fa-8d4d-651a793361b5",
   "metadata": {},
   "source": [
    "## center()"
   ]
  },
  {
   "cell_type": "code",
   "execution_count": 168,
   "id": "8e5922bb-5e9a-44d8-a8a8-22d012653ca9",
   "metadata": {
    "tags": []
   },
   "outputs": [],
   "source": [
    "sen3 = \"Welcome to my home\""
   ]
  },
  {
   "cell_type": "code",
   "execution_count": 170,
   "id": "f90e425c-1b54-410e-b3be-a6cafd48716a",
   "metadata": {
    "tags": []
   },
   "outputs": [
    {
     "name": "stdout",
     "output_type": "stream",
     "text": [
      "Welcome to my home\n"
     ]
    }
   ],
   "source": [
    "print(sen3)"
   ]
  },
  {
   "cell_type": "code",
   "execution_count": 184,
   "id": "1fe9d9a0-bcc3-4cc0-81f4-1ca1e14e714f",
   "metadata": {
    "tags": []
   },
   "outputs": [
    {
     "data": {
      "text/plain": [
       "'                                                                 Welcome to my home                                                                 '"
      ]
     },
     "execution_count": 184,
     "metadata": {},
     "output_type": "execute_result"
    }
   ],
   "source": [
    "sen3.center(148)"
   ]
  },
  {
   "cell_type": "code",
   "execution_count": 191,
   "id": "d163a367-1383-4d53-a499-0220fafedec7",
   "metadata": {
    "tags": []
   },
   "outputs": [
    {
     "data": {
      "text/plain": [
       "'*****************************************************************Welcome to my home*****************************************************************'"
      ]
     },
     "execution_count": 191,
     "metadata": {},
     "output_type": "execute_result"
    }
   ],
   "source": [
    "sen3.center(148,\"*\")"
   ]
  },
  {
   "cell_type": "code",
   "execution_count": 188,
   "id": "592f22f3-6b2d-4afd-b613-472495e3206e",
   "metadata": {
    "tags": []
   },
   "outputs": [
    {
     "data": {
      "text/plain": [
       "18"
      ]
     },
     "execution_count": 188,
     "metadata": {},
     "output_type": "execute_result"
    }
   ],
   "source": [
    "len(sen3)"
   ]
  },
  {
   "cell_type": "markdown",
   "id": "31578194-7f1c-4e81-91e1-fc2afd1928f3",
   "metadata": {},
   "source": [
    "## count()"
   ]
  },
  {
   "cell_type": "code",
   "execution_count": 193,
   "id": "19212242-2df7-4dbc-b2e9-2c358c408ca5",
   "metadata": {
    "tags": []
   },
   "outputs": [],
   "source": [
    "str14 = \"Abracadabra\""
   ]
  },
  {
   "cell_type": "code",
   "execution_count": 201,
   "id": "03799248-1303-40db-a12d-387b0fba782e",
   "metadata": {
    "tags": []
   },
   "outputs": [
    {
     "data": {
      "text/plain": [
       "4"
      ]
     },
     "execution_count": 201,
     "metadata": {},
     "output_type": "execute_result"
    }
   ],
   "source": [
    "str14.count('a')"
   ]
  },
  {
   "cell_type": "code",
   "execution_count": 203,
   "id": "85d87f19-2a40-4d09-9b43-565ece38e191",
   "metadata": {
    "tags": []
   },
   "outputs": [],
   "source": [
    "str15 = \"Praveen. Praveen is my name\""
   ]
  },
  {
   "cell_type": "code",
   "execution_count": 207,
   "id": "bf233d65-b72f-4c6a-93e6-be155671faef",
   "metadata": {
    "tags": []
   },
   "outputs": [
    {
     "data": {
      "text/plain": [
       "2"
      ]
     },
     "execution_count": 207,
     "metadata": {},
     "output_type": "execute_result"
    }
   ],
   "source": [
    "str15.count(\"Praveen\")"
   ]
  },
  {
   "cell_type": "markdown",
   "id": "e509f415-0ed4-4abe-a9ab-6f3c478cda4a",
   "metadata": {},
   "source": [
    "## find()"
   ]
  },
  {
   "cell_type": "code",
   "execution_count": 214,
   "id": "a6d812c2-9f6a-4c55-9496-4dd8117d82a1",
   "metadata": {
    "tags": []
   },
   "outputs": [],
   "source": [
    "str16 = \"Praveen is my name\""
   ]
  },
  {
   "cell_type": "code",
   "execution_count": 216,
   "id": "77839322-2921-49f1-8036-3d2dcea15037",
   "metadata": {
    "tags": []
   },
   "outputs": [
    {
     "data": {
      "text/plain": [
       "8"
      ]
     },
     "execution_count": 216,
     "metadata": {},
     "output_type": "execute_result"
    }
   ],
   "source": [
    "str16.find('is')"
   ]
  },
  {
   "cell_type": "code",
   "execution_count": 218,
   "id": "796aba5c-95d6-45fa-891c-022bdb34a36a",
   "metadata": {
    "tags": []
   },
   "outputs": [],
   "source": [
    "str17 = \"His name is Raju. He is a great man\""
   ]
  },
  {
   "cell_type": "code",
   "execution_count": 220,
   "id": "2ff217a9-16fc-4357-89f1-d626c79f1c0d",
   "metadata": {
    "tags": []
   },
   "outputs": [
    {
     "name": "stdout",
     "output_type": "stream",
     "text": [
      "-1\n"
     ]
    }
   ],
   "source": [
    "print(str17.find('Rajesh'))"
   ]
  },
  {
   "cell_type": "code",
   "execution_count": 226,
   "id": "4d3fc1cc-0ba9-4170-bddd-1e250bd122f4",
   "metadata": {
    "tags": []
   },
   "outputs": [],
   "source": [
    "str18 = \"His name is Raju. Raju is a great man\""
   ]
  },
  {
   "cell_type": "code",
   "execution_count": 228,
   "id": "70628f1c-6327-4b62-9484-f288f997f8cd",
   "metadata": {
    "tags": []
   },
   "outputs": [
    {
     "data": {
      "text/plain": [
       "12"
      ]
     },
     "execution_count": 228,
     "metadata": {},
     "output_type": "execute_result"
    }
   ],
   "source": [
    "str18.index(\"Raju\")"
   ]
  },
  {
   "cell_type": "markdown",
   "id": "c79b6fa1-2695-4d49-8464-210127f940c3",
   "metadata": {
    "tags": []
   },
   "source": [
    "## islower()"
   ]
  },
  {
   "cell_type": "code",
   "execution_count": 234,
   "id": "21c72df2-7d83-41d3-aaf4-8013ba142bb4",
   "metadata": {
    "tags": []
   },
   "outputs": [],
   "source": [
    "sen4 = \"how are you\""
   ]
  },
  {
   "cell_type": "code",
   "execution_count": 236,
   "id": "6ee04116-1a04-4698-bcd2-eebeb6ebc0d7",
   "metadata": {
    "tags": []
   },
   "outputs": [
    {
     "data": {
      "text/plain": [
       "True"
      ]
     },
     "execution_count": 236,
     "metadata": {},
     "output_type": "execute_result"
    }
   ],
   "source": [
    "sen4.islower()"
   ]
  },
  {
   "cell_type": "markdown",
   "id": "e27ca74d-8ddb-4936-8a92-0a59a962e103",
   "metadata": {},
   "source": [
    "## isupper()"
   ]
  },
  {
   "cell_type": "code",
   "execution_count": 249,
   "id": "20c4fdac-f3cd-45bf-9d92-29f21bc2b389",
   "metadata": {
    "tags": []
   },
   "outputs": [],
   "source": [
    "sen5 = \"HOW ARE YOU\""
   ]
  },
  {
   "cell_type": "code",
   "execution_count": 252,
   "id": "ad49f081-0ede-4d9a-96b2-3ae373d928fe",
   "metadata": {
    "tags": []
   },
   "outputs": [
    {
     "data": {
      "text/plain": [
       "True"
      ]
     },
     "execution_count": 252,
     "metadata": {},
     "output_type": "execute_result"
    }
   ],
   "source": [
    "sen5.isupper()"
   ]
  },
  {
   "cell_type": "code",
   "execution_count": 254,
   "id": "e29f1c42-7cd1-47e8-b3c9-9297e0cb1110",
   "metadata": {
    "tags": []
   },
   "outputs": [],
   "source": [
    "sen6 = \"How Are You\""
   ]
  },
  {
   "cell_type": "code",
   "execution_count": 256,
   "id": "4cfda41a-6195-4d02-889f-3b034244258c",
   "metadata": {
    "tags": []
   },
   "outputs": [
    {
     "data": {
      "text/plain": [
       "False"
      ]
     },
     "execution_count": 256,
     "metadata": {},
     "output_type": "execute_result"
    }
   ],
   "source": [
    "sen6.islower()"
   ]
  },
  {
   "cell_type": "code",
   "execution_count": 258,
   "id": "85f28289-b6d7-4d70-b662-15c54922b6e6",
   "metadata": {
    "tags": []
   },
   "outputs": [
    {
     "data": {
      "text/plain": [
       "False"
      ]
     },
     "execution_count": 258,
     "metadata": {},
     "output_type": "execute_result"
    }
   ],
   "source": [
    "sen6.isupper()"
   ]
  },
  {
   "cell_type": "markdown",
   "id": "42ddec8f-5df8-4410-b712-95866fdde4f3",
   "metadata": {
    "tags": []
   },
   "source": [
    "## startswith()"
   ]
  },
  {
   "cell_type": "code",
   "execution_count": 264,
   "id": "94b392e3-f61c-4d04-97fe-a36c6fc4ac33",
   "metadata": {
    "tags": []
   },
   "outputs": [],
   "source": [
    "sen7 = \"Python is a interpreted language\""
   ]
  },
  {
   "cell_type": "code",
   "execution_count": 269,
   "id": "53c408d0-820c-4329-abdb-ba669c58a12e",
   "metadata": {
    "tags": []
   },
   "outputs": [
    {
     "data": {
      "text/plain": [
       "True"
      ]
     },
     "execution_count": 269,
     "metadata": {},
     "output_type": "execute_result"
    }
   ],
   "source": [
    "sen7.startswith(\"Python\")"
   ]
  },
  {
   "cell_type": "code",
   "execution_count": 271,
   "id": "bec82989-b59d-4df6-bb9a-7e196bb49285",
   "metadata": {
    "tags": []
   },
   "outputs": [],
   "source": [
    "sen8 = \"python is a interpreted language\""
   ]
  },
  {
   "cell_type": "code",
   "execution_count": 275,
   "id": "28c3eeb9-1062-4b8e-bf00-73d978ca601e",
   "metadata": {
    "tags": []
   },
   "outputs": [
    {
     "data": {
      "text/plain": [
       "False"
      ]
     },
     "execution_count": 275,
     "metadata": {},
     "output_type": "execute_result"
    }
   ],
   "source": [
    "sen8.startswith(\"Python\")"
   ]
  },
  {
   "cell_type": "code",
   "execution_count": null,
   "id": "61da0682-e44f-4836-9192-687dd9a3045f",
   "metadata": {
    "tags": []
   },
   "outputs": [],
   "source": []
  },
  {
   "cell_type": "code",
   "execution_count": null,
   "id": "1a8a238b-e122-449e-a150-f3119fca1e92",
   "metadata": {},
   "outputs": [],
   "source": []
  },
  {
   "cell_type": "code",
   "execution_count": null,
   "id": "c6fc42c7-5dc4-49e5-84e2-d26f0c75a722",
   "metadata": {},
   "outputs": [],
   "source": []
  },
  {
   "cell_type": "code",
   "execution_count": null,
   "id": "f6fbe82e-b6f0-4565-b644-b327652a4d3c",
   "metadata": {},
   "outputs": [],
   "source": []
  },
  {
   "cell_type": "code",
   "execution_count": null,
   "id": "897f0daf-41e2-4797-abf3-c5fd1456e4c2",
   "metadata": {},
   "outputs": [],
   "source": []
  },
  {
   "cell_type": "code",
   "execution_count": null,
   "id": "3ac70ac9-4153-4ec9-93d3-41845d7764f1",
   "metadata": {},
   "outputs": [],
   "source": []
  },
  {
   "cell_type": "code",
   "execution_count": null,
   "id": "88bc6bc2-4bbf-4621-b79e-53e88cafa28e",
   "metadata": {},
   "outputs": [],
   "source": []
  },
  {
   "cell_type": "code",
   "execution_count": null,
   "id": "9d5a5ca1-c6a6-4b85-9059-10012741b02f",
   "metadata": {},
   "outputs": [],
   "source": []
  },
  {
   "cell_type": "code",
   "execution_count": null,
   "id": "eb94e664-5853-41e3-aa20-ced107e8a398",
   "metadata": {},
   "outputs": [],
   "source": []
  },
  {
   "cell_type": "code",
   "execution_count": null,
   "id": "0c6212ad-a21e-4e08-aa23-9a8249be6643",
   "metadata": {},
   "outputs": [],
   "source": []
  },
  {
   "cell_type": "code",
   "execution_count": null,
   "id": "d3783582-2aa9-4208-a854-7d2060d5f1bb",
   "metadata": {},
   "outputs": [],
   "source": []
  }
 ],
 "metadata": {
  "kernelspec": {
   "display_name": "Python 3 (ipykernel)",
   "language": "python",
   "name": "python3"
  },
  "language_info": {
   "codemirror_mode": {
    "name": "ipython",
    "version": 3
   },
   "file_extension": ".py",
   "mimetype": "text/x-python",
   "name": "python",
   "nbconvert_exporter": "python",
   "pygments_lexer": "ipython3",
   "version": "3.11.7"
  }
 },
 "nbformat": 4,
 "nbformat_minor": 5
}
